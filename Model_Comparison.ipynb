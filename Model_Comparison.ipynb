{
  "nbformat": 4,
  "nbformat_minor": 0,
  "metadata": {
    "colab": {
      "name": "Untitled2.ipynb",
      "version": "0.3.2",
      "provenance": [],
      "collapsed_sections": []
    },
    "kernelspec": {
      "name": "python3",
      "display_name": "Python 3"
    }
  },
  "cells": [
    {
      "metadata": {
        "id": "uhw6kgifZC9V",
        "colab_type": "code",
        "colab": {
          "base_uri": "https://localhost:8080/",
          "height": 683
        },
        "outputId": "8cd30a42-3ed8-43b3-da3f-a442fdfa6232"
      },
      "cell_type": "code",
      "source": [
        "pip install -U turicreate"
      ],
      "execution_count": 1,
      "outputs": [
        {
          "output_type": "stream",
          "text": [
            "Collecting turicreate\n",
            "\u001b[?25l  Downloading https://files.pythonhosted.org/packages/4f/ef/1847a704548ad4cbcabe09b3882181c190f5b696da8b2d082521c33ec187/turicreate-5.4-cp36-cp36m-manylinux1_x86_64.whl (87.4MB)\n",
            "\u001b[K    100% |████████████████████████████████| 87.4MB 340kB/s \n",
            "\u001b[?25hRequirement already satisfied, skipping upgrade: prettytable==0.7.2 in /usr/local/lib/python3.6/dist-packages (from turicreate) (0.7.2)\n",
            "Requirement already satisfied, skipping upgrade: requests>=2.9.1 in /usr/local/lib/python3.6/dist-packages (from turicreate) (2.21.0)\n",
            "Requirement already satisfied, skipping upgrade: resampy==0.2.1 in /usr/local/lib/python3.6/dist-packages (from turicreate) (0.2.1)\n",
            "Requirement already satisfied, skipping upgrade: pandas>=0.19.0 in /usr/local/lib/python3.6/dist-packages (from turicreate) (0.24.2)\n",
            "Requirement already satisfied, skipping upgrade: numpy in /usr/local/lib/python3.6/dist-packages (from turicreate) (1.16.3)\n",
            "Collecting mxnet<1.2.0,>=1.1.0 (from turicreate)\n",
            "\u001b[?25l  Downloading https://files.pythonhosted.org/packages/96/98/c9877e100c3d1ac92263bfaba7bb8a49294e099046592040a2ff8620ac61/mxnet-1.1.0.post0-py2.py3-none-manylinux1_x86_64.whl (23.8MB)\n",
            "\u001b[K    100% |████████████████████████████████| 23.8MB 2.1MB/s \n",
            "\u001b[?25hRequirement already satisfied, skipping upgrade: scipy>=0.14.0 in /usr/local/lib/python3.6/dist-packages (from turicreate) (1.2.1)\n",
            "Requirement already satisfied, skipping upgrade: pillow>=3.3.0 in /usr/local/lib/python3.6/dist-packages (from turicreate) (4.3.0)\n",
            "Requirement already satisfied, skipping upgrade: six>=1.10.0 in /usr/local/lib/python3.6/dist-packages (from turicreate) (1.12.0)\n",
            "Collecting coremltools==2.1.0 (from turicreate)\n",
            "\u001b[?25l  Downloading https://files.pythonhosted.org/packages/b9/9d/7ec5a2480c6afce4fcb99de1650b7abfd1457b2ef1de5ce39bf7bee8a8ae/coremltools-2.1.0-cp36-none-manylinux1_x86_64.whl (2.7MB)\n",
            "\u001b[K    100% |████████████████████████████████| 2.7MB 12.2MB/s \n",
            "\u001b[?25hRequirement already satisfied, skipping upgrade: decorator>=4.0.9 in /usr/local/lib/python3.6/dist-packages (from turicreate) (4.4.0)\n",
            "Requirement already satisfied, skipping upgrade: chardet<3.1.0,>=3.0.2 in /usr/local/lib/python3.6/dist-packages (from requests>=2.9.1->turicreate) (3.0.4)\n",
            "Requirement already satisfied, skipping upgrade: certifi>=2017.4.17 in /usr/local/lib/python3.6/dist-packages (from requests>=2.9.1->turicreate) (2019.3.9)\n",
            "Requirement already satisfied, skipping upgrade: idna<2.9,>=2.5 in /usr/local/lib/python3.6/dist-packages (from requests>=2.9.1->turicreate) (2.8)\n",
            "Requirement already satisfied, skipping upgrade: urllib3<1.25,>=1.21.1 in /usr/local/lib/python3.6/dist-packages (from requests>=2.9.1->turicreate) (1.24.2)\n",
            "Requirement already satisfied, skipping upgrade: numba>=0.32 in /usr/local/lib/python3.6/dist-packages (from resampy==0.2.1->turicreate) (0.40.1)\n",
            "Requirement already satisfied, skipping upgrade: pytz>=2011k in /usr/local/lib/python3.6/dist-packages (from pandas>=0.19.0->turicreate) (2018.9)\n",
            "Requirement already satisfied, skipping upgrade: python-dateutil>=2.5.0 in /usr/local/lib/python3.6/dist-packages (from pandas>=0.19.0->turicreate) (2.5.3)\n",
            "Collecting graphviz<0.9.0,>=0.8.1 (from mxnet<1.2.0,>=1.1.0->turicreate)\n",
            "  Downloading https://files.pythonhosted.org/packages/53/39/4ab213673844e0c004bed8a0781a0721a3f6bb23eb8854ee75c236428892/graphviz-0.8.4-py2.py3-none-any.whl\n",
            "Requirement already satisfied, skipping upgrade: olefile in /usr/local/lib/python3.6/dist-packages (from pillow>=3.3.0->turicreate) (0.46)\n",
            "Requirement already satisfied, skipping upgrade: protobuf>=3.1.0 in /usr/local/lib/python3.6/dist-packages (from coremltools==2.1.0->turicreate) (3.7.1)\n",
            "Requirement already satisfied, skipping upgrade: llvmlite>=0.25.0dev0 in /usr/local/lib/python3.6/dist-packages (from numba>=0.32->resampy==0.2.1->turicreate) (0.28.0)\n",
            "Requirement already satisfied, skipping upgrade: setuptools in /usr/local/lib/python3.6/dist-packages (from protobuf>=3.1.0->coremltools==2.1.0->turicreate) (40.9.0)\n",
            "\u001b[31mmxnet 1.1.0.post0 has requirement numpy<1.15.0,>=1.8.2, but you'll have numpy 1.16.3 which is incompatible.\u001b[0m\n",
            "\u001b[31mmxnet 1.1.0.post0 has requirement requests<2.19.0,>=2.18.4, but you'll have requests 2.21.0 which is incompatible.\u001b[0m\n",
            "Installing collected packages: graphviz, mxnet, coremltools, turicreate\n",
            "  Found existing installation: graphviz 0.10.1\n",
            "    Uninstalling graphviz-0.10.1:\n",
            "      Successfully uninstalled graphviz-0.10.1\n",
            "Successfully installed coremltools-2.1.0 graphviz-0.8.4 mxnet-1.1.0.post0 turicreate-5.4\n"
          ],
          "name": "stdout"
        }
      ]
    },
    {
      "metadata": {
        "id": "_V406kDmayV-",
        "colab_type": "code",
        "colab": {}
      },
      "cell_type": "code",
      "source": [
        "import pandas as pd\n",
        "import numpy as np\n",
        "import time\n",
        "from sklearn.model_selection import train_test_split\n",
        "import turicreate as tc\n",
        "from IPython.display import Latex"
      ],
      "execution_count": 0,
      "outputs": []
    },
    {
      "metadata": {
        "id": "WdYZfnKvfa4p",
        "colab_type": "text"
      },
      "cell_type": "markdown",
      "source": [
        "**DATA LOADING AND DATA PREPARATION**"
      ]
    },
    {
      "metadata": {
        "id": "QC6ppSYzfqvN",
        "colab_type": "code",
        "colab": {}
      },
      "cell_type": "code",
      "source": [
        "transactions = pd.read_csv('ta_feng_all_months_merged.csv')\n",
        "transactions = transactions.rename(index=str, columns={\"CUSTOMER_ID\": \"customerId\", 'п»ї\"TRANSACTION_DT\"': 'TRANSACTION_DT', 'PRODUCT_ID':'productId'})\n",
        "transactions = transactions.drop(columns=['TRANSACTION_DT', 'AGE_GROUP', 'PIN_CODE', 'PRODUCT_SUBCLASS', 'AMOUNT', 'ASSET', 'SALES_PRICE'])\n",
        "transactions = transactions.rename(index=str, columns={\"productId\": \"products\"})"
      ],
      "execution_count": 0,
      "outputs": []
    },
    {
      "metadata": {
        "id": "cQIl5jQyS9Za",
        "colab_type": "code",
        "colab": {
          "base_uri": "https://localhost:8080/",
          "height": 34
        },
        "outputId": "7f7dbf48-c0e1-4dd9-8b88-a04420c993a6"
      },
      "cell_type": "code",
      "source": [
        "transactions.shape"
      ],
      "execution_count": 4,
      "outputs": [
        {
          "output_type": "execute_result",
          "data": {
            "text/plain": [
              "(817741, 2)"
            ]
          },
          "metadata": {
            "tags": []
          },
          "execution_count": 4
        }
      ]
    },
    {
      "metadata": {
        "id": "Fqc_4SevivT8",
        "colab_type": "code",
        "colab": {
          "base_uri": "https://localhost:8080/",
          "height": 204
        },
        "outputId": "30451d61-c842-403a-c7c8-4e106a7f9124"
      },
      "cell_type": "code",
      "source": [
        "customers = transactions.copy()\n",
        "customers = customers.drop(columns=['products'])\n",
        "customers = customers.drop_duplicates()\n",
        "customers.head()"
      ],
      "execution_count": 6,
      "outputs": [
        {
          "output_type": "execute_result",
          "data": {
            "text/html": [
              "<div>\n",
              "<style scoped>\n",
              "    .dataframe tbody tr th:only-of-type {\n",
              "        vertical-align: middle;\n",
              "    }\n",
              "\n",
              "    .dataframe tbody tr th {\n",
              "        vertical-align: top;\n",
              "    }\n",
              "\n",
              "    .dataframe thead th {\n",
              "        text-align: right;\n",
              "    }\n",
              "</style>\n",
              "<table border=\"1\" class=\"dataframe\">\n",
              "  <thead>\n",
              "    <tr style=\"text-align: right;\">\n",
              "      <th></th>\n",
              "      <th>customerId</th>\n",
              "    </tr>\n",
              "  </thead>\n",
              "  <tbody>\n",
              "    <tr>\n",
              "      <th>0</th>\n",
              "      <td>1104905</td>\n",
              "    </tr>\n",
              "    <tr>\n",
              "      <th>1</th>\n",
              "      <td>418683</td>\n",
              "    </tr>\n",
              "    <tr>\n",
              "      <th>2</th>\n",
              "      <td>1057331</td>\n",
              "    </tr>\n",
              "    <tr>\n",
              "      <th>3</th>\n",
              "      <td>1849332</td>\n",
              "    </tr>\n",
              "    <tr>\n",
              "      <th>4</th>\n",
              "      <td>1981995</td>\n",
              "    </tr>\n",
              "  </tbody>\n",
              "</table>\n",
              "</div>"
            ],
            "text/plain": [
              "   customerId\n",
              "0     1104905\n",
              "1      418683\n",
              "2     1057331\n",
              "3     1849332\n",
              "4     1981995"
            ]
          },
          "metadata": {
            "tags": []
          },
          "execution_count": 6
        }
      ]
    },
    {
      "metadata": {
        "id": "UTJBcVXdi5V_",
        "colab_type": "code",
        "colab": {
          "base_uri": "https://localhost:8080/",
          "height": 111
        },
        "outputId": "8a4a1769-0f7d-48a2-e23f-f6b45da7d668"
      },
      "cell_type": "code",
      "source": [
        "transactions = transactions.groupby('customerId')['products'].apply(list)\n",
        "transactions = pd.DataFrame({'customerId':transactions.index, 'products':transactions.values})\n",
        "transactions = transactions.reset_index()\n",
        "transactions.head(2).set_index('customerId')['products'].apply(pd.Series).reset_index()"
      ],
      "execution_count": 8,
      "outputs": [
        {
          "output_type": "execute_result",
          "data": {
            "text/html": [
              "<div>\n",
              "<style scoped>\n",
              "    .dataframe tbody tr th:only-of-type {\n",
              "        vertical-align: middle;\n",
              "    }\n",
              "\n",
              "    .dataframe tbody tr th {\n",
              "        vertical-align: top;\n",
              "    }\n",
              "\n",
              "    .dataframe thead th {\n",
              "        text-align: right;\n",
              "    }\n",
              "</style>\n",
              "<table border=\"1\" class=\"dataframe\">\n",
              "  <thead>\n",
              "    <tr style=\"text-align: right;\">\n",
              "      <th></th>\n",
              "      <th>customerId</th>\n",
              "      <th>0</th>\n",
              "      <th>1</th>\n",
              "    </tr>\n",
              "  </thead>\n",
              "  <tbody>\n",
              "    <tr>\n",
              "      <th>0</th>\n",
              "      <td>1069</td>\n",
              "      <td>9556439880610</td>\n",
              "      <td>4710176008699</td>\n",
              "    </tr>\n",
              "    <tr>\n",
              "      <th>1</th>\n",
              "      <td>1113</td>\n",
              "      <td>4902105011621</td>\n",
              "      <td>4711271000014</td>\n",
              "    </tr>\n",
              "  </tbody>\n",
              "</table>\n",
              "</div>"
            ],
            "text/plain": [
              "   customerId              0              1\n",
              "0        1069  9556439880610  4710176008699\n",
              "1        1113  4902105011621  4711271000014"
            ]
          },
          "metadata": {
            "tags": []
          },
          "execution_count": 8
        }
      ]
    },
    {
      "metadata": {
        "id": "42dFYAKGjDxf",
        "colab_type": "code",
        "colab": {}
      },
      "cell_type": "code",
      "source": [
        "data = pd.melt(transactions.set_index('customerId')['products'].apply(pd.Series).reset_index(), \n",
        "             id_vars=['customerId'],\n",
        "             value_name='products') \\\n",
        "    .dropna().drop(['variable'], axis=1) \\\n",
        "    .groupby(['customerId', 'products']) \\\n",
        "    .agg({'products': 'count'}) \\\n",
        "    .rename(columns={'products': 'purchase_count'}) \\\n",
        "    .reset_index() \\\n",
        "    .rename(columns={'products': 'productId'})\n",
        "data['productId'] = data['productId'].astype(np.int64)"
      ],
      "execution_count": 0,
      "outputs": []
    },
    {
      "metadata": {
        "id": "Ud0_wo1yjOyu",
        "colab_type": "text"
      },
      "cell_type": "markdown",
      "source": [
        "### Отнормируем число покупок каждой SKU используя Rescaling (min-max normalization)"
      ]
    },
    {
      "metadata": {
        "id": "IW2cL-ygjagN",
        "colab_type": "text"
      },
      "cell_type": "markdown",
      "source": [
        "x^' = \\frac{x - min(x)}{max(x) - min(x)}"
      ]
    },
    {
      "metadata": {
        "id": "Ii1qYpoBjRjG",
        "colab_type": "code",
        "colab": {}
      },
      "cell_type": "code",
      "source": [
        "def normalize_data(data):\n",
        "    df_matrix = pd.pivot_table(data, values='purchase_count', index='customerId', columns='productId')\n",
        "    df_matrix_norm = (df_matrix-df_matrix.min())/(df_matrix.max()-df_matrix.min())\n",
        "    d = df_matrix_norm.reset_index()\n",
        "    d.index.names = ['scaled_purchase_freq']\n",
        "    return pd.melt(d, id_vars=['customerId'], value_name='scaled_purchase_freq').dropna()\n",
        "\n",
        "data_norm = normalize_data(data)"
      ],
      "execution_count": 0,
      "outputs": []
    },
    {
      "metadata": {
        "id": "qV6xzUxYmUpo",
        "colab_type": "text"
      },
      "cell_type": "markdown",
      "source": [
        "**Добавим переменную purchase_dummy равную единице, если клиент хотя бы один раз покупал соответствующий товар. **\n",
        "\n"
      ]
    },
    {
      "metadata": {
        "id": "_CPJIXTnm_QE",
        "colab_type": "code",
        "colab": {}
      },
      "cell_type": "code",
      "source": [
        "def create_data_dummy(data):\n",
        "    data_dummy = data.copy()\n",
        "    data_dummy['purchase_dummy'] = 1\n",
        "    return data_dummy"
      ],
      "execution_count": 0,
      "outputs": []
    },
    {
      "metadata": {
        "id": "Vht3DMaenCKo",
        "colab_type": "code",
        "colab": {}
      },
      "cell_type": "code",
      "source": [
        "data_dummy = create_data_dummy(data)"
      ],
      "execution_count": 0,
      "outputs": []
    },
    {
      "metadata": {
        "id": "22BjUfI7nB_I",
        "colab_type": "code",
        "colab": {
          "base_uri": "https://localhost:8080/",
          "height": 204
        },
        "outputId": "868e3bf9-5cf5-4fd9-d00b-06637b1a754f"
      },
      "cell_type": "code",
      "source": [
        "data_dummy.head()"
      ],
      "execution_count": 15,
      "outputs": [
        {
          "output_type": "execute_result",
          "data": {
            "text/html": [
              "<div>\n",
              "<style scoped>\n",
              "    .dataframe tbody tr th:only-of-type {\n",
              "        vertical-align: middle;\n",
              "    }\n",
              "\n",
              "    .dataframe tbody tr th {\n",
              "        vertical-align: top;\n",
              "    }\n",
              "\n",
              "    .dataframe thead th {\n",
              "        text-align: right;\n",
              "    }\n",
              "</style>\n",
              "<table border=\"1\" class=\"dataframe\">\n",
              "  <thead>\n",
              "    <tr style=\"text-align: right;\">\n",
              "      <th></th>\n",
              "      <th>customerId</th>\n",
              "      <th>productId</th>\n",
              "      <th>purchase_count</th>\n",
              "      <th>purchase_dummy</th>\n",
              "    </tr>\n",
              "  </thead>\n",
              "  <tbody>\n",
              "    <tr>\n",
              "      <th>0</th>\n",
              "      <td>1069</td>\n",
              "      <td>4710176008699</td>\n",
              "      <td>1</td>\n",
              "      <td>1</td>\n",
              "    </tr>\n",
              "    <tr>\n",
              "      <th>1</th>\n",
              "      <td>1069</td>\n",
              "      <td>9556439880610</td>\n",
              "      <td>1</td>\n",
              "      <td>1</td>\n",
              "    </tr>\n",
              "    <tr>\n",
              "      <th>2</th>\n",
              "      <td>1113</td>\n",
              "      <td>4711271000014</td>\n",
              "      <td>1</td>\n",
              "      <td>1</td>\n",
              "    </tr>\n",
              "    <tr>\n",
              "      <th>3</th>\n",
              "      <td>1113</td>\n",
              "      <td>4902105011621</td>\n",
              "      <td>1</td>\n",
              "      <td>1</td>\n",
              "    </tr>\n",
              "    <tr>\n",
              "      <th>4</th>\n",
              "      <td>1823</td>\n",
              "      <td>20398576</td>\n",
              "      <td>1</td>\n",
              "      <td>1</td>\n",
              "    </tr>\n",
              "  </tbody>\n",
              "</table>\n",
              "</div>"
            ],
            "text/plain": [
              "   customerId      productId  purchase_count  purchase_dummy\n",
              "0        1069  4710176008699               1               1\n",
              "1        1069  9556439880610               1               1\n",
              "2        1113  4711271000014               1               1\n",
              "3        1113  4902105011621               1               1\n",
              "4        1823       20398576               1               1"
            ]
          },
          "metadata": {
            "tags": []
          },
          "execution_count": 15
        }
      ]
    },
    {
      "metadata": {
        "id": "m1sIHEZJjm0O",
        "colab_type": "text"
      },
      "cell_type": "markdown",
      "source": [
        "### Определим функцию разбиения на обучающую и тестовую выборки "
      ]
    },
    {
      "metadata": {
        "id": "UJZVCy3yk4ji",
        "colab_type": "code",
        "colab": {}
      },
      "cell_type": "code",
      "source": [
        "def split_data(data):\n",
        "    train, test = train_test_split(data, test_size = .2)\n",
        "    train_data = tc.SFrame(train)\n",
        "    test_data = tc.SFrame(test)\n",
        "    return train_data, test_data"
      ],
      "execution_count": 0,
      "outputs": []
    },
    {
      "metadata": {
        "id": "yDk9REnan5dc",
        "colab_type": "text"
      },
      "cell_type": "markdown",
      "source": [
        "**На этом этапе у нас имеются три датасета. Разделим каждый на обучающую и тестовую выборки**"
      ]
    },
    {
      "metadata": {
        "id": "PbwFj4S-k7lF",
        "colab_type": "code",
        "colab": {}
      },
      "cell_type": "code",
      "source": [
        "train_data, test_data = split_data(data)\n",
        "train_data_dummy, test_data_dummy = split_data(data_dummy)\n",
        "train_data_norm, test_data_norm = split_data(data_norm)"
      ],
      "execution_count": 0,
      "outputs": []
    },
    {
      "metadata": {
        "id": "P0-5ZpWOwBIM",
        "colab_type": "text"
      },
      "cell_type": "markdown",
      "source": [
        "**Обучим два вида моделей: Popularity model и Collaborative Filtering Model на трех имеющихся датасетов. **"
      ]
    },
    {
      "metadata": {
        "id": "2cwfCv0lwvXF",
        "colab_type": "code",
        "colab": {}
      },
      "cell_type": "code",
      "source": [
        "def model(train_data, name, user_id, item_id, target, users_to_recommend, n_rec, n_display):\n",
        "    if name == 'popularity':\n",
        "        model = tc.popularity_recommender.create(train_data, \n",
        "                                                    user_id=user_id, \n",
        "                                                    item_id=item_id, \n",
        "                                                    target=target)\n",
        "    elif name == 'cosine':\n",
        "        model = tc.item_similarity_recommender.create(train_data, \n",
        "                                                    user_id=user_id, \n",
        "                                                    item_id=item_id, \n",
        "                                                    target=target, \n",
        "                                                    similarity_type='cosine')\n",
        "    elif name == 'pearson':\n",
        "        model = tc.item_similarity_recommender.create(train_data, \n",
        "                                                    user_id=user_id, \n",
        "                                                    item_id=item_id, \n",
        "                                                    target=target, \n",
        "                                                    similarity_type='pearson')\n",
        "        \n",
        "    recom = model.recommend(users=users_to_recommend, k=n_rec)\n",
        "    recom.print_rows(n_display)\n",
        "    return model"
      ],
      "execution_count": 0,
      "outputs": []
    },
    {
      "metadata": {
        "id": "VlwfG2D5xBmE",
        "colab_type": "text"
      },
      "cell_type": "markdown",
      "source": [
        "**1.1 Popularity model based on purchase counts**"
      ]
    },
    {
      "metadata": {
        "id": "Xl39aAKIz75K",
        "colab_type": "code",
        "colab": {}
      },
      "cell_type": "code",
      "source": [
        "def model(train_data, name, user_id, item_id, target, users_to_recommend, n_rec, n_display):\n",
        "    if name == 'popularity':\n",
        "        model = tc.popularity_recommender.create(train_data, \n",
        "                                                    user_id=user_id, \n",
        "                                                    item_id=item_id, \n",
        "                                                    target=target)\n",
        "    elif name == 'cosine':\n",
        "        model = tc.item_similarity_recommender.create(train_data, \n",
        "                                                    user_id=user_id, \n",
        "                                                    item_id=item_id, \n",
        "                                                    target=target, \n",
        "                                                    similarity_type='cosine')\n",
        "    elif name == 'pearson':\n",
        "        model = tc.item_similarity_recommender.create(train_data, \n",
        "                                                    user_id=user_id, \n",
        "                                                    item_id=item_id, \n",
        "                                                    target=target, \n",
        "                                                    similarity_type='pearson')\n",
        "        \n",
        "    recom = model.recommend(users=users_to_recommend, k=n_rec)\n",
        "    recom.print_rows(n_display)\n",
        "    return model"
      ],
      "execution_count": 0,
      "outputs": []
    },
    {
      "metadata": {
        "id": "8VsPR_Pu3AeC",
        "colab_type": "code",
        "colab": {}
      },
      "cell_type": "code",
      "source": [
        "user_id = 'customerId'\n",
        "item_id = 'productId'\n",
        "users_to_recommend = list(customers[user_id])\n",
        "n_rec = 10\n",
        "n_display = 30"
      ],
      "execution_count": 0,
      "outputs": []
    },
    {
      "metadata": {
        "id": "kXNX5TvL3CLN",
        "colab_type": "code",
        "colab": {
          "base_uri": "https://localhost:8080/",
          "height": 850
        },
        "outputId": "51b4b993-b8bb-45a2-ab5b-d434cce9bf0d"
      },
      "cell_type": "code",
      "source": [
        "name = 'popularity'\n",
        "target = 'purchase_count'\n",
        "popularity_model = model(train_data, name, user_id, item_id, target, users_to_recommend, n_rec, n_display)"
      ],
      "execution_count": 21,
      "outputs": [
        {
          "output_type": "display_data",
          "data": {
            "text/html": [
              "<pre>Preparing data set.</pre>"
            ],
            "text/plain": [
              "Preparing data set."
            ]
          },
          "metadata": {
            "tags": []
          }
        },
        {
          "output_type": "display_data",
          "data": {
            "text/html": [
              "<pre>    Data has 78669 observations with 9483 users and 12571 items.</pre>"
            ],
            "text/plain": [
              "    Data has 78669 observations with 9483 users and 12571 items."
            ]
          },
          "metadata": {
            "tags": []
          }
        },
        {
          "output_type": "display_data",
          "data": {
            "text/html": [
              "<pre>    Data prepared in: 0.142584s</pre>"
            ],
            "text/plain": [
              "    Data prepared in: 0.142584s"
            ]
          },
          "metadata": {
            "tags": []
          }
        },
        {
          "output_type": "display_data",
          "data": {
            "text/html": [
              "<pre>78669 observations to process; with 12571 unique items.</pre>"
            ],
            "text/plain": [
              "78669 observations to process; with 12571 unique items."
            ]
          },
          "metadata": {
            "tags": []
          }
        },
        {
          "output_type": "display_data",
          "data": {
            "text/html": [
              "<pre>recommendations finished on 1000/9729 queries. users per second: 7178.85</pre>"
            ],
            "text/plain": [
              "recommendations finished on 1000/9729 queries. users per second: 7178.85"
            ]
          },
          "metadata": {
            "tags": []
          }
        },
        {
          "output_type": "display_data",
          "data": {
            "text/html": [
              "<pre>recommendations finished on 2000/9729 queries. users per second: 7495.47</pre>"
            ],
            "text/plain": [
              "recommendations finished on 2000/9729 queries. users per second: 7495.47"
            ]
          },
          "metadata": {
            "tags": []
          }
        },
        {
          "output_type": "display_data",
          "data": {
            "text/html": [
              "<pre>recommendations finished on 3000/9729 queries. users per second: 7621.45</pre>"
            ],
            "text/plain": [
              "recommendations finished on 3000/9729 queries. users per second: 7621.45"
            ]
          },
          "metadata": {
            "tags": []
          }
        },
        {
          "output_type": "display_data",
          "data": {
            "text/html": [
              "<pre>recommendations finished on 4000/9729 queries. users per second: 7657.41</pre>"
            ],
            "text/plain": [
              "recommendations finished on 4000/9729 queries. users per second: 7657.41"
            ]
          },
          "metadata": {
            "tags": []
          }
        },
        {
          "output_type": "display_data",
          "data": {
            "text/html": [
              "<pre>recommendations finished on 5000/9729 queries. users per second: 7689.89</pre>"
            ],
            "text/plain": [
              "recommendations finished on 5000/9729 queries. users per second: 7689.89"
            ]
          },
          "metadata": {
            "tags": []
          }
        },
        {
          "output_type": "display_data",
          "data": {
            "text/html": [
              "<pre>recommendations finished on 6000/9729 queries. users per second: 7736.97</pre>"
            ],
            "text/plain": [
              "recommendations finished on 6000/9729 queries. users per second: 7736.97"
            ]
          },
          "metadata": {
            "tags": []
          }
        },
        {
          "output_type": "display_data",
          "data": {
            "text/html": [
              "<pre>recommendations finished on 7000/9729 queries. users per second: 7723.03</pre>"
            ],
            "text/plain": [
              "recommendations finished on 7000/9729 queries. users per second: 7723.03"
            ]
          },
          "metadata": {
            "tags": []
          }
        },
        {
          "output_type": "display_data",
          "data": {
            "text/html": [
              "<pre>recommendations finished on 8000/9729 queries. users per second: 7733.11</pre>"
            ],
            "text/plain": [
              "recommendations finished on 8000/9729 queries. users per second: 7733.11"
            ]
          },
          "metadata": {
            "tags": []
          }
        },
        {
          "output_type": "display_data",
          "data": {
            "text/html": [
              "<pre>recommendations finished on 9000/9729 queries. users per second: 7732.94</pre>"
            ],
            "text/plain": [
              "recommendations finished on 9000/9729 queries. users per second: 7732.94"
            ]
          },
          "metadata": {
            "tags": []
          }
        },
        {
          "output_type": "stream",
          "text": [
            "+------------+---------------+-------+------+\n",
            "| customerId |   productId   | score | rank |\n",
            "+------------+---------------+-------+------+\n",
            "|  1104905   | 4711703122536 |  3.0  |  1   |\n",
            "|  1104905   |  74570703074  |  3.0  |  2   |\n",
            "|  1104905   | 4713045018096 |  2.0  |  3   |\n",
            "|  1104905   | 4713645410122 |  2.0  |  4   |\n",
            "|  1104905   | 2100035002364 |  2.0  |  5   |\n",
            "|  1104905   |    20538538   |  2.0  |  6   |\n",
            "|  1104905   | 4710498600847 |  2.0  |  7   |\n",
            "|  1104905   | 4712172200015 |  2.0  |  8   |\n",
            "|  1104905   | 8712045003565 |  2.0  |  9   |\n",
            "|  1104905   | 4715828131510 |  2.0  |  10  |\n",
            "|   418683   | 4711703122536 |  3.0  |  1   |\n",
            "|   418683   |  74570703074  |  3.0  |  2   |\n",
            "|   418683   | 4713045018096 |  2.0  |  3   |\n",
            "|   418683   | 4713645410122 |  2.0  |  4   |\n",
            "|   418683   | 2100035002364 |  2.0  |  5   |\n",
            "|   418683   |    20538538   |  2.0  |  6   |\n",
            "|   418683   | 4710498600847 |  2.0  |  7   |\n",
            "|   418683   | 4712172200015 |  2.0  |  8   |\n",
            "|   418683   | 8712045003565 |  2.0  |  9   |\n",
            "|   418683   | 4715828131510 |  2.0  |  10  |\n",
            "|  1057331   | 4711703122536 |  3.0  |  1   |\n",
            "|  1057331   |  74570703074  |  3.0  |  2   |\n",
            "|  1057331   | 4713045018096 |  2.0  |  3   |\n",
            "|  1057331   | 4713645410122 |  2.0  |  4   |\n",
            "|  1057331   | 2100035002364 |  2.0  |  5   |\n",
            "|  1057331   |    20538538   |  2.0  |  6   |\n",
            "|  1057331   | 4710498600847 |  2.0  |  7   |\n",
            "|  1057331   | 4712172200015 |  2.0  |  8   |\n",
            "|  1057331   | 8712045003565 |  2.0  |  9   |\n",
            "|  1057331   | 4715828131510 |  2.0  |  10  |\n",
            "+------------+---------------+-------+------+\n",
            "[97290 rows x 4 columns]\n",
            "\n"
          ],
          "name": "stdout"
        }
      ]
    },
    {
      "metadata": {
        "id": "HAjrWETM5H4v",
        "colab_type": "text"
      },
      "cell_type": "markdown",
      "source": [
        "**1.2 Popularity model based on purchase dummy.**"
      ]
    },
    {
      "metadata": {
        "id": "DkEBhPxu3TEd",
        "colab_type": "code",
        "colab": {
          "base_uri": "https://localhost:8080/",
          "height": 884
        },
        "outputId": "9f097ad6-4f1d-4d87-851e-dc36588f513e"
      },
      "cell_type": "code",
      "source": [
        "name = 'popularity'\n",
        "target = 'purchase_dummy'\n",
        "pop_dummy = model(train_data_dummy, name, user_id, item_id, target, users_to_recommend, n_rec, n_display)"
      ],
      "execution_count": 22,
      "outputs": [
        {
          "output_type": "display_data",
          "data": {
            "text/html": [
              "<pre>Warning: Ignoring columns purchase_count;</pre>"
            ],
            "text/plain": [
              "Warning: Ignoring columns purchase_count;"
            ]
          },
          "metadata": {
            "tags": []
          }
        },
        {
          "output_type": "display_data",
          "data": {
            "text/html": [
              "<pre>    To use these columns in scoring predictions, use a model that allows the use of additional features.</pre>"
            ],
            "text/plain": [
              "    To use these columns in scoring predictions, use a model that allows the use of additional features."
            ]
          },
          "metadata": {
            "tags": []
          }
        },
        {
          "output_type": "display_data",
          "data": {
            "text/html": [
              "<pre>Preparing data set.</pre>"
            ],
            "text/plain": [
              "Preparing data set."
            ]
          },
          "metadata": {
            "tags": []
          }
        },
        {
          "output_type": "display_data",
          "data": {
            "text/html": [
              "<pre>    Data has 78669 observations with 9493 users and 12555 items.</pre>"
            ],
            "text/plain": [
              "    Data has 78669 observations with 9493 users and 12555 items."
            ]
          },
          "metadata": {
            "tags": []
          }
        },
        {
          "output_type": "display_data",
          "data": {
            "text/html": [
              "<pre>    Data prepared in: 0.123286s</pre>"
            ],
            "text/plain": [
              "    Data prepared in: 0.123286s"
            ]
          },
          "metadata": {
            "tags": []
          }
        },
        {
          "output_type": "display_data",
          "data": {
            "text/html": [
              "<pre>78669 observations to process; with 12555 unique items.</pre>"
            ],
            "text/plain": [
              "78669 observations to process; with 12555 unique items."
            ]
          },
          "metadata": {
            "tags": []
          }
        },
        {
          "output_type": "display_data",
          "data": {
            "text/html": [
              "<pre>recommendations finished on 1000/9729 queries. users per second: 6109.86</pre>"
            ],
            "text/plain": [
              "recommendations finished on 1000/9729 queries. users per second: 6109.86"
            ]
          },
          "metadata": {
            "tags": []
          }
        },
        {
          "output_type": "display_data",
          "data": {
            "text/html": [
              "<pre>recommendations finished on 2000/9729 queries. users per second: 6138.26</pre>"
            ],
            "text/plain": [
              "recommendations finished on 2000/9729 queries. users per second: 6138.26"
            ]
          },
          "metadata": {
            "tags": []
          }
        },
        {
          "output_type": "display_data",
          "data": {
            "text/html": [
              "<pre>recommendations finished on 3000/9729 queries. users per second: 6128.74</pre>"
            ],
            "text/plain": [
              "recommendations finished on 3000/9729 queries. users per second: 6128.74"
            ]
          },
          "metadata": {
            "tags": []
          }
        },
        {
          "output_type": "display_data",
          "data": {
            "text/html": [
              "<pre>recommendations finished on 4000/9729 queries. users per second: 6122.32</pre>"
            ],
            "text/plain": [
              "recommendations finished on 4000/9729 queries. users per second: 6122.32"
            ]
          },
          "metadata": {
            "tags": []
          }
        },
        {
          "output_type": "display_data",
          "data": {
            "text/html": [
              "<pre>recommendations finished on 5000/9729 queries. users per second: 6055.12</pre>"
            ],
            "text/plain": [
              "recommendations finished on 5000/9729 queries. users per second: 6055.12"
            ]
          },
          "metadata": {
            "tags": []
          }
        },
        {
          "output_type": "display_data",
          "data": {
            "text/html": [
              "<pre>recommendations finished on 6000/9729 queries. users per second: 6076.77</pre>"
            ],
            "text/plain": [
              "recommendations finished on 6000/9729 queries. users per second: 6076.77"
            ]
          },
          "metadata": {
            "tags": []
          }
        },
        {
          "output_type": "display_data",
          "data": {
            "text/html": [
              "<pre>recommendations finished on 7000/9729 queries. users per second: 6033.05</pre>"
            ],
            "text/plain": [
              "recommendations finished on 7000/9729 queries. users per second: 6033.05"
            ]
          },
          "metadata": {
            "tags": []
          }
        },
        {
          "output_type": "display_data",
          "data": {
            "text/html": [
              "<pre>recommendations finished on 8000/9729 queries. users per second: 6046.19</pre>"
            ],
            "text/plain": [
              "recommendations finished on 8000/9729 queries. users per second: 6046.19"
            ]
          },
          "metadata": {
            "tags": []
          }
        },
        {
          "output_type": "display_data",
          "data": {
            "text/html": [
              "<pre>recommendations finished on 9000/9729 queries. users per second: 6057.93</pre>"
            ],
            "text/plain": [
              "recommendations finished on 9000/9729 queries. users per second: 6057.93"
            ]
          },
          "metadata": {
            "tags": []
          }
        },
        {
          "output_type": "stream",
          "text": [
            "+------------+---------------+-------+------+\n",
            "| customerId |   productId   | score | rank |\n",
            "+------------+---------------+-------+------+\n",
            "|  1104905   | 4718176280992 |  1.0  |  1   |\n",
            "|  1104905   | 4710088432353 |  1.0  |  2   |\n",
            "|  1104905   | 8711500638229 |  1.0  |  3   |\n",
            "|  1104905   |  41419761748  |  1.0  |  4   |\n",
            "|  1104905   | 4710498123964 |  1.0  |  5   |\n",
            "|  1104905   | 4710367520054 |  1.0  |  6   |\n",
            "|  1104905   | 4713627810681 |  1.0  |  7   |\n",
            "|  1104905   | 8712000900045 |  1.0  |  8   |\n",
            "|  1104905   | 4715062861105 |  1.0  |  9   |\n",
            "|  1104905   | 4710515535091 |  1.0  |  10  |\n",
            "|   418683   | 4718176280992 |  1.0  |  1   |\n",
            "|   418683   | 4710088432353 |  1.0  |  2   |\n",
            "|   418683   | 8711500638229 |  1.0  |  3   |\n",
            "|   418683   |  41419761748  |  1.0  |  4   |\n",
            "|   418683   | 4710498123964 |  1.0  |  5   |\n",
            "|   418683   | 4710367520054 |  1.0  |  6   |\n",
            "|   418683   | 4713627810681 |  1.0  |  7   |\n",
            "|   418683   | 8712000900045 |  1.0  |  8   |\n",
            "|   418683   | 4715062861105 |  1.0  |  9   |\n",
            "|   418683   | 4710515535091 |  1.0  |  10  |\n",
            "|  1057331   | 4718176280992 |  1.0  |  1   |\n",
            "|  1057331   | 4710088432353 |  1.0  |  2   |\n",
            "|  1057331   | 8711500638229 |  1.0  |  3   |\n",
            "|  1057331   |  41419761748  |  1.0  |  4   |\n",
            "|  1057331   | 4710498123964 |  1.0  |  5   |\n",
            "|  1057331   | 4710367520054 |  1.0  |  6   |\n",
            "|  1057331   | 4713627810681 |  1.0  |  7   |\n",
            "|  1057331   | 8712000900045 |  1.0  |  8   |\n",
            "|  1057331   | 4715062861105 |  1.0  |  9   |\n",
            "|  1057331   | 4710515535091 |  1.0  |  10  |\n",
            "+------------+---------------+-------+------+\n",
            "[97290 rows x 4 columns]\n",
            "\n"
          ],
          "name": "stdout"
        }
      ]
    },
    {
      "metadata": {
        "id": "_VywHgF46uT7",
        "colab_type": "text"
      },
      "cell_type": "markdown",
      "source": [
        "**1.3 Popularity model based on normalized purchase count.**"
      ]
    },
    {
      "metadata": {
        "id": "4TbYbNh_5fW8",
        "colab_type": "code",
        "colab": {
          "base_uri": "https://localhost:8080/",
          "height": 850
        },
        "outputId": "6f7d4aeb-81b5-47c9-eb77-ed2d86d10816"
      },
      "cell_type": "code",
      "source": [
        "name = 'popularity'\n",
        "target = 'scaled_purchase_freq'\n",
        "pop_norm = model(train_data_norm, name, user_id, item_id, target, users_to_recommend, n_rec, n_display)"
      ],
      "execution_count": 30,
      "outputs": [
        {
          "output_type": "display_data",
          "data": {
            "text/html": [
              "<pre>Preparing data set.</pre>"
            ],
            "text/plain": [
              "Preparing data set."
            ]
          },
          "metadata": {
            "tags": []
          }
        },
        {
          "output_type": "display_data",
          "data": {
            "text/html": [
              "<pre>    Data has 28012 observations with 8035 users and 815 items.</pre>"
            ],
            "text/plain": [
              "    Data has 28012 observations with 8035 users and 815 items."
            ]
          },
          "metadata": {
            "tags": []
          }
        },
        {
          "output_type": "display_data",
          "data": {
            "text/html": [
              "<pre>    Data prepared in: 0.054465s</pre>"
            ],
            "text/plain": [
              "    Data prepared in: 0.054465s"
            ]
          },
          "metadata": {
            "tags": []
          }
        },
        {
          "output_type": "display_data",
          "data": {
            "text/html": [
              "<pre>28012 observations to process; with 815 unique items.</pre>"
            ],
            "text/plain": [
              "28012 observations to process; with 815 unique items."
            ]
          },
          "metadata": {
            "tags": []
          }
        },
        {
          "output_type": "display_data",
          "data": {
            "text/html": [
              "<pre>recommendations finished on 1000/9729 queries. users per second: 57920.6</pre>"
            ],
            "text/plain": [
              "recommendations finished on 1000/9729 queries. users per second: 57920.6"
            ]
          },
          "metadata": {
            "tags": []
          }
        },
        {
          "output_type": "display_data",
          "data": {
            "text/html": [
              "<pre>recommendations finished on 2000/9729 queries. users per second: 53441.6</pre>"
            ],
            "text/plain": [
              "recommendations finished on 2000/9729 queries. users per second: 53441.6"
            ]
          },
          "metadata": {
            "tags": []
          }
        },
        {
          "output_type": "display_data",
          "data": {
            "text/html": [
              "<pre>recommendations finished on 3000/9729 queries. users per second: 52923.1</pre>"
            ],
            "text/plain": [
              "recommendations finished on 3000/9729 queries. users per second: 52923.1"
            ]
          },
          "metadata": {
            "tags": []
          }
        },
        {
          "output_type": "display_data",
          "data": {
            "text/html": [
              "<pre>recommendations finished on 4000/9729 queries. users per second: 51933.2</pre>"
            ],
            "text/plain": [
              "recommendations finished on 4000/9729 queries. users per second: 51933.2"
            ]
          },
          "metadata": {
            "tags": []
          }
        },
        {
          "output_type": "display_data",
          "data": {
            "text/html": [
              "<pre>recommendations finished on 5000/9729 queries. users per second: 51861.3</pre>"
            ],
            "text/plain": [
              "recommendations finished on 5000/9729 queries. users per second: 51861.3"
            ]
          },
          "metadata": {
            "tags": []
          }
        },
        {
          "output_type": "display_data",
          "data": {
            "text/html": [
              "<pre>recommendations finished on 6000/9729 queries. users per second: 51535.8</pre>"
            ],
            "text/plain": [
              "recommendations finished on 6000/9729 queries. users per second: 51535.8"
            ]
          },
          "metadata": {
            "tags": []
          }
        },
        {
          "output_type": "display_data",
          "data": {
            "text/html": [
              "<pre>recommendations finished on 7000/9729 queries. users per second: 50856.6</pre>"
            ],
            "text/plain": [
              "recommendations finished on 7000/9729 queries. users per second: 50856.6"
            ]
          },
          "metadata": {
            "tags": []
          }
        },
        {
          "output_type": "display_data",
          "data": {
            "text/html": [
              "<pre>recommendations finished on 8000/9729 queries. users per second: 50991.5</pre>"
            ],
            "text/plain": [
              "recommendations finished on 8000/9729 queries. users per second: 50991.5"
            ]
          },
          "metadata": {
            "tags": []
          }
        },
        {
          "output_type": "display_data",
          "data": {
            "text/html": [
              "<pre>recommendations finished on 9000/9729 queries. users per second: 50871.3</pre>"
            ],
            "text/plain": [
              "recommendations finished on 9000/9729 queries. users per second: 50871.3"
            ]
          },
          "metadata": {
            "tags": []
          }
        },
        {
          "output_type": "stream",
          "text": [
            "+------------+---------------+-------+------+\n",
            "| customerId |   productId   | score | rank |\n",
            "+------------+---------------+-------+------+\n",
            "|  1104905   |  614632010285 |  1.0  |  1   |\n",
            "|  1104905   | 4711703122536 |  1.0  |  2   |\n",
            "|  1104905   | 4714541070236 |  1.0  |  3   |\n",
            "|  1104905   | 4710172030106 |  1.0  |  4   |\n",
            "|  1104905   | 4717673414169 |  1.0  |  5   |\n",
            "|  1104905   | 4714499363039 |  1.0  |  6   |\n",
            "|  1104905   | 4714686581451 |  0.5  |  7   |\n",
            "|  1104905   | 4710424701952 |  0.5  |  8   |\n",
            "|  1104905   | 4710706932005 |  0.5  |  9   |\n",
            "|  1104905   | 4715828131510 |  0.5  |  10  |\n",
            "|   418683   |  614632010285 |  1.0  |  1   |\n",
            "|   418683   | 4711703122536 |  1.0  |  2   |\n",
            "|   418683   | 4714541070236 |  1.0  |  3   |\n",
            "|   418683   | 4710172030106 |  1.0  |  4   |\n",
            "|   418683   | 4717673414169 |  1.0  |  5   |\n",
            "|   418683   | 4714499363039 |  1.0  |  6   |\n",
            "|   418683   | 4714686581451 |  0.5  |  7   |\n",
            "|   418683   | 4710424701952 |  0.5  |  8   |\n",
            "|   418683   | 4710706932005 |  0.5  |  9   |\n",
            "|   418683   | 4715828131510 |  0.5  |  10  |\n",
            "|  1057331   |  614632010285 |  1.0  |  1   |\n",
            "|  1057331   | 4711703122536 |  1.0  |  2   |\n",
            "|  1057331   | 4714541070236 |  1.0  |  3   |\n",
            "|  1057331   | 4710172030106 |  1.0  |  4   |\n",
            "|  1057331   | 4717673414169 |  1.0  |  5   |\n",
            "|  1057331   | 4714499363039 |  1.0  |  6   |\n",
            "|  1057331   | 4714686581451 |  0.5  |  7   |\n",
            "|  1057331   | 4710424701952 |  0.5  |  8   |\n",
            "|  1057331   | 4710706932005 |  0.5  |  9   |\n",
            "|  1057331   | 4715828131510 |  0.5  |  10  |\n",
            "+------------+---------------+-------+------+\n",
            "[97290 rows x 4 columns]\n",
            "\n"
          ],
          "name": "stdout"
        }
      ]
    },
    {
      "metadata": {
        "id": "dWWZHSj18CXP",
        "colab_type": "text"
      },
      "cell_type": "markdown",
      "source": [
        "** 2.1 Collaborative Filtering Model with Cosine similarity based on purchase count**"
      ]
    },
    {
      "metadata": {
        "id": "Kap6MTp-7vES",
        "colab_type": "code",
        "colab": {
          "base_uri": "https://localhost:8080/",
          "height": 1156
        },
        "outputId": "a907b34d-e498-471d-a5b5-a0df69a74116"
      },
      "cell_type": "code",
      "source": [
        "name = 'cosine'\n",
        "target = 'purchase_count'\n",
        "cos = model(train_data, name, user_id, item_id, target, users_to_recommend, n_rec, n_display)"
      ],
      "execution_count": 31,
      "outputs": [
        {
          "output_type": "display_data",
          "data": {
            "text/html": [
              "<pre>Preparing data set.</pre>"
            ],
            "text/plain": [
              "Preparing data set."
            ]
          },
          "metadata": {
            "tags": []
          }
        },
        {
          "output_type": "display_data",
          "data": {
            "text/html": [
              "<pre>    Data has 78669 observations with 9483 users and 12571 items.</pre>"
            ],
            "text/plain": [
              "    Data has 78669 observations with 9483 users and 12571 items."
            ]
          },
          "metadata": {
            "tags": []
          }
        },
        {
          "output_type": "display_data",
          "data": {
            "text/html": [
              "<pre>    Data prepared in: 0.115982s</pre>"
            ],
            "text/plain": [
              "    Data prepared in: 0.115982s"
            ]
          },
          "metadata": {
            "tags": []
          }
        },
        {
          "output_type": "display_data",
          "data": {
            "text/html": [
              "<pre>Training model from provided data.</pre>"
            ],
            "text/plain": [
              "Training model from provided data."
            ]
          },
          "metadata": {
            "tags": []
          }
        },
        {
          "output_type": "display_data",
          "data": {
            "text/html": [
              "<pre>Gathering per-item and per-user statistics.</pre>"
            ],
            "text/plain": [
              "Gathering per-item and per-user statistics."
            ]
          },
          "metadata": {
            "tags": []
          }
        },
        {
          "output_type": "display_data",
          "data": {
            "text/html": [
              "<pre>+--------------------------------+------------+</pre>"
            ],
            "text/plain": [
              "+--------------------------------+------------+"
            ]
          },
          "metadata": {
            "tags": []
          }
        },
        {
          "output_type": "display_data",
          "data": {
            "text/html": [
              "<pre>| Elapsed Time (Item Statistics) | % Complete |</pre>"
            ],
            "text/plain": [
              "| Elapsed Time (Item Statistics) | % Complete |"
            ]
          },
          "metadata": {
            "tags": []
          }
        },
        {
          "output_type": "display_data",
          "data": {
            "text/html": [
              "<pre>+--------------------------------+------------+</pre>"
            ],
            "text/plain": [
              "+--------------------------------+------------+"
            ]
          },
          "metadata": {
            "tags": []
          }
        },
        {
          "output_type": "display_data",
          "data": {
            "text/html": [
              "<pre>| 1.523ms                        | 10.5       |</pre>"
            ],
            "text/plain": [
              "| 1.523ms                        | 10.5       |"
            ]
          },
          "metadata": {
            "tags": []
          }
        },
        {
          "output_type": "display_data",
          "data": {
            "text/html": [
              "<pre>| 17.612ms                       | 100        |</pre>"
            ],
            "text/plain": [
              "| 17.612ms                       | 100        |"
            ]
          },
          "metadata": {
            "tags": []
          }
        },
        {
          "output_type": "display_data",
          "data": {
            "text/html": [
              "<pre>+--------------------------------+------------+</pre>"
            ],
            "text/plain": [
              "+--------------------------------+------------+"
            ]
          },
          "metadata": {
            "tags": []
          }
        },
        {
          "output_type": "display_data",
          "data": {
            "text/html": [
              "<pre>Setting up lookup tables.</pre>"
            ],
            "text/plain": [
              "Setting up lookup tables."
            ]
          },
          "metadata": {
            "tags": []
          }
        },
        {
          "output_type": "display_data",
          "data": {
            "text/html": [
              "<pre>Processing data in one pass using dense lookup tables.</pre>"
            ],
            "text/plain": [
              "Processing data in one pass using dense lookup tables."
            ]
          },
          "metadata": {
            "tags": []
          }
        },
        {
          "output_type": "display_data",
          "data": {
            "text/html": [
              "<pre>+-------------------------------------+------------------+-----------------+</pre>"
            ],
            "text/plain": [
              "+-------------------------------------+------------------+-----------------+"
            ]
          },
          "metadata": {
            "tags": []
          }
        },
        {
          "output_type": "display_data",
          "data": {
            "text/html": [
              "<pre>| Elapsed Time (Constructing Lookups) | Total % Complete | Items Processed |</pre>"
            ],
            "text/plain": [
              "| Elapsed Time (Constructing Lookups) | Total % Complete | Items Processed |"
            ]
          },
          "metadata": {
            "tags": []
          }
        },
        {
          "output_type": "display_data",
          "data": {
            "text/html": [
              "<pre>+-------------------------------------+------------------+-----------------+</pre>"
            ],
            "text/plain": [
              "+-------------------------------------+------------------+-----------------+"
            ]
          },
          "metadata": {
            "tags": []
          }
        },
        {
          "output_type": "display_data",
          "data": {
            "text/html": [
              "<pre>| 185.382ms                           | 0                | 9               |</pre>"
            ],
            "text/plain": [
              "| 185.382ms                           | 0                | 9               |"
            ]
          },
          "metadata": {
            "tags": []
          }
        },
        {
          "output_type": "display_data",
          "data": {
            "text/html": [
              "<pre>| 1.28s                               | 100              | 12571           |</pre>"
            ],
            "text/plain": [
              "| 1.28s                               | 100              | 12571           |"
            ]
          },
          "metadata": {
            "tags": []
          }
        },
        {
          "output_type": "display_data",
          "data": {
            "text/html": [
              "<pre>+-------------------------------------+------------------+-----------------+</pre>"
            ],
            "text/plain": [
              "+-------------------------------------+------------------+-----------------+"
            ]
          },
          "metadata": {
            "tags": []
          }
        },
        {
          "output_type": "display_data",
          "data": {
            "text/html": [
              "<pre>Finalizing lookup tables.</pre>"
            ],
            "text/plain": [
              "Finalizing lookup tables."
            ]
          },
          "metadata": {
            "tags": []
          }
        },
        {
          "output_type": "display_data",
          "data": {
            "text/html": [
              "<pre>Generating candidate set for working with new users.</pre>"
            ],
            "text/plain": [
              "Generating candidate set for working with new users."
            ]
          },
          "metadata": {
            "tags": []
          }
        },
        {
          "output_type": "display_data",
          "data": {
            "text/html": [
              "<pre>Finished training in 1.3198s</pre>"
            ],
            "text/plain": [
              "Finished training in 1.3198s"
            ]
          },
          "metadata": {
            "tags": []
          }
        },
        {
          "output_type": "display_data",
          "data": {
            "text/html": [
              "<pre>recommendations finished on 1000/9729 queries. users per second: 6866.01</pre>"
            ],
            "text/plain": [
              "recommendations finished on 1000/9729 queries. users per second: 6866.01"
            ]
          },
          "metadata": {
            "tags": []
          }
        },
        {
          "output_type": "display_data",
          "data": {
            "text/html": [
              "<pre>recommendations finished on 2000/9729 queries. users per second: 6491.93</pre>"
            ],
            "text/plain": [
              "recommendations finished on 2000/9729 queries. users per second: 6491.93"
            ]
          },
          "metadata": {
            "tags": []
          }
        },
        {
          "output_type": "display_data",
          "data": {
            "text/html": [
              "<pre>recommendations finished on 3000/9729 queries. users per second: 5966.17</pre>"
            ],
            "text/plain": [
              "recommendations finished on 3000/9729 queries. users per second: 5966.17"
            ]
          },
          "metadata": {
            "tags": []
          }
        },
        {
          "output_type": "display_data",
          "data": {
            "text/html": [
              "<pre>recommendations finished on 4000/9729 queries. users per second: 5689.24</pre>"
            ],
            "text/plain": [
              "recommendations finished on 4000/9729 queries. users per second: 5689.24"
            ]
          },
          "metadata": {
            "tags": []
          }
        },
        {
          "output_type": "display_data",
          "data": {
            "text/html": [
              "<pre>recommendations finished on 5000/9729 queries. users per second: 5571.24</pre>"
            ],
            "text/plain": [
              "recommendations finished on 5000/9729 queries. users per second: 5571.24"
            ]
          },
          "metadata": {
            "tags": []
          }
        },
        {
          "output_type": "display_data",
          "data": {
            "text/html": [
              "<pre>recommendations finished on 6000/9729 queries. users per second: 5519.86</pre>"
            ],
            "text/plain": [
              "recommendations finished on 6000/9729 queries. users per second: 5519.86"
            ]
          },
          "metadata": {
            "tags": []
          }
        },
        {
          "output_type": "display_data",
          "data": {
            "text/html": [
              "<pre>recommendations finished on 7000/9729 queries. users per second: 5448.26</pre>"
            ],
            "text/plain": [
              "recommendations finished on 7000/9729 queries. users per second: 5448.26"
            ]
          },
          "metadata": {
            "tags": []
          }
        },
        {
          "output_type": "display_data",
          "data": {
            "text/html": [
              "<pre>recommendations finished on 8000/9729 queries. users per second: 5413.65</pre>"
            ],
            "text/plain": [
              "recommendations finished on 8000/9729 queries. users per second: 5413.65"
            ]
          },
          "metadata": {
            "tags": []
          }
        },
        {
          "output_type": "display_data",
          "data": {
            "text/html": [
              "<pre>recommendations finished on 9000/9729 queries. users per second: 5388.62</pre>"
            ],
            "text/plain": [
              "recommendations finished on 9000/9729 queries. users per second: 5388.62"
            ]
          },
          "metadata": {
            "tags": []
          }
        },
        {
          "output_type": "stream",
          "text": [
            "+------------+---------------+----------------------+------+\n",
            "| customerId |   productId   |        score         | rank |\n",
            "+------------+---------------+----------------------+------+\n",
            "|  1104905   | 4901201906022 | 0.051547002792358396 |  1   |\n",
            "|  1104905   |    20403515   | 0.04472135901451111  |  2   |\n",
            "|  1104905   | 4714082260080 | 0.04472135901451111  |  3   |\n",
            "|  1104905   |    20494803   | 0.04472135901451111  |  4   |\n",
            "|  1104905   | 4717362900560 | 0.04472135901451111  |  5   |\n",
            "|  1104905   | 4713792992502 | 0.04472135901451111  |  6   |\n",
            "|  1104905   |    20513115   | 0.04472135901451111  |  7   |\n",
            "|  1104905   | 4713045614519 | 0.04472135901451111  |  8   |\n",
            "|  1104905   | 4710690001022 | 0.04472135901451111  |  9   |\n",
            "|  1104905   | 4712187000129 | 0.04472135901451111  |  10  |\n",
            "|   418683   | 4710011409056 | 0.24524259567260742  |  1   |\n",
            "|   418683   | 4710011406123 | 0.24348507324854532  |  2   |\n",
            "|   418683   | 4710011405133 | 0.20464152097702026  |  3   |\n",
            "|   418683   | 4710011401142 |  0.2032432754834493  |  4   |\n",
            "|   418683   | 4710857000059 | 0.15201783180236816  |  5   |\n",
            "|   418683   | 4713080000094 | 0.12598816553751627  |  6   |\n",
            "|   418683   | 4710254055027 | 0.12598816553751627  |  7   |\n",
            "|   418683   | 4903065061015 | 0.12598816553751627  |  8   |\n",
            "|   418683   | 4712031000732 | 0.11439702908198039  |  9   |\n",
            "|   418683   | 4710735812668 | 0.11439702908198039  |  10  |\n",
            "|  1057331   |    20513184   | 0.06568252295255661  |  1   |\n",
            "|  1057331   | 4717265990965 | 0.05874823033809662  |  2   |\n",
            "|  1057331   | 4901872208784 | 0.05792217701673508  |  3   |\n",
            "|  1057331   | 4710017002091 | 0.05792217701673508  |  4   |\n",
            "|  1057331   | 4710644775351 | 0.04902903735637665  |  5   |\n",
            "|  1057331   | 4714072600278 | 0.04644455760717392  |  6   |\n",
            "|  1057331   | 4710017052911 | 0.04378834366798401  |  7   |\n",
            "|  1057331   | 4712187012986 | 0.04095716029405594  |  8   |\n",
            "|  1057331   | 4715890102487 | 0.04095716029405594  |  9   |\n",
            "|  1057331   | 4005808811007 | 0.04095716029405594  |  10  |\n",
            "+------------+---------------+----------------------+------+\n",
            "[97290 rows x 4 columns]\n",
            "\n"
          ],
          "name": "stdout"
        }
      ]
    },
    {
      "metadata": {
        "id": "ol0qPBxJ8cTW",
        "colab_type": "text"
      },
      "cell_type": "markdown",
      "source": [
        "** 2.2 Collaborative Filtering Model with Cosine similarity based on purchase dummy**"
      ]
    },
    {
      "metadata": {
        "id": "TrLeSIlC8RK2",
        "colab_type": "code",
        "colab": {
          "base_uri": "https://localhost:8080/",
          "height": 1190
        },
        "outputId": "acdd4839-f668-4d37-c961-cb1b907c4f38"
      },
      "cell_type": "code",
      "source": [
        "name = 'cosine'\n",
        "target = 'purchase_dummy'\n",
        "cos_dummy = model(train_data_dummy, name, user_id, item_id, target, users_to_recommend, n_rec, n_display)"
      ],
      "execution_count": 32,
      "outputs": [
        {
          "output_type": "display_data",
          "data": {
            "text/html": [
              "<pre>Warning: Ignoring columns purchase_count;</pre>"
            ],
            "text/plain": [
              "Warning: Ignoring columns purchase_count;"
            ]
          },
          "metadata": {
            "tags": []
          }
        },
        {
          "output_type": "display_data",
          "data": {
            "text/html": [
              "<pre>    To use these columns in scoring predictions, use a model that allows the use of additional features.</pre>"
            ],
            "text/plain": [
              "    To use these columns in scoring predictions, use a model that allows the use of additional features."
            ]
          },
          "metadata": {
            "tags": []
          }
        },
        {
          "output_type": "display_data",
          "data": {
            "text/html": [
              "<pre>Preparing data set.</pre>"
            ],
            "text/plain": [
              "Preparing data set."
            ]
          },
          "metadata": {
            "tags": []
          }
        },
        {
          "output_type": "display_data",
          "data": {
            "text/html": [
              "<pre>    Data has 78669 observations with 9493 users and 12555 items.</pre>"
            ],
            "text/plain": [
              "    Data has 78669 observations with 9493 users and 12555 items."
            ]
          },
          "metadata": {
            "tags": []
          }
        },
        {
          "output_type": "display_data",
          "data": {
            "text/html": [
              "<pre>    Data prepared in: 0.126106s</pre>"
            ],
            "text/plain": [
              "    Data prepared in: 0.126106s"
            ]
          },
          "metadata": {
            "tags": []
          }
        },
        {
          "output_type": "display_data",
          "data": {
            "text/html": [
              "<pre>Training model from provided data.</pre>"
            ],
            "text/plain": [
              "Training model from provided data."
            ]
          },
          "metadata": {
            "tags": []
          }
        },
        {
          "output_type": "display_data",
          "data": {
            "text/html": [
              "<pre>Gathering per-item and per-user statistics.</pre>"
            ],
            "text/plain": [
              "Gathering per-item and per-user statistics."
            ]
          },
          "metadata": {
            "tags": []
          }
        },
        {
          "output_type": "display_data",
          "data": {
            "text/html": [
              "<pre>+--------------------------------+------------+</pre>"
            ],
            "text/plain": [
              "+--------------------------------+------------+"
            ]
          },
          "metadata": {
            "tags": []
          }
        },
        {
          "output_type": "display_data",
          "data": {
            "text/html": [
              "<pre>| Elapsed Time (Item Statistics) | % Complete |</pre>"
            ],
            "text/plain": [
              "| Elapsed Time (Item Statistics) | % Complete |"
            ]
          },
          "metadata": {
            "tags": []
          }
        },
        {
          "output_type": "display_data",
          "data": {
            "text/html": [
              "<pre>+--------------------------------+------------+</pre>"
            ],
            "text/plain": [
              "+--------------------------------+------------+"
            ]
          },
          "metadata": {
            "tags": []
          }
        },
        {
          "output_type": "display_data",
          "data": {
            "text/html": [
              "<pre>| 1.971ms                        | 10.5       |</pre>"
            ],
            "text/plain": [
              "| 1.971ms                        | 10.5       |"
            ]
          },
          "metadata": {
            "tags": []
          }
        },
        {
          "output_type": "display_data",
          "data": {
            "text/html": [
              "<pre>| 7.548ms                        | 100        |</pre>"
            ],
            "text/plain": [
              "| 7.548ms                        | 100        |"
            ]
          },
          "metadata": {
            "tags": []
          }
        },
        {
          "output_type": "display_data",
          "data": {
            "text/html": [
              "<pre>+--------------------------------+------------+</pre>"
            ],
            "text/plain": [
              "+--------------------------------+------------+"
            ]
          },
          "metadata": {
            "tags": []
          }
        },
        {
          "output_type": "display_data",
          "data": {
            "text/html": [
              "<pre>Setting up lookup tables.</pre>"
            ],
            "text/plain": [
              "Setting up lookup tables."
            ]
          },
          "metadata": {
            "tags": []
          }
        },
        {
          "output_type": "display_data",
          "data": {
            "text/html": [
              "<pre>Processing data in one pass using dense lookup tables.</pre>"
            ],
            "text/plain": [
              "Processing data in one pass using dense lookup tables."
            ]
          },
          "metadata": {
            "tags": []
          }
        },
        {
          "output_type": "display_data",
          "data": {
            "text/html": [
              "<pre>+-------------------------------------+------------------+-----------------+</pre>"
            ],
            "text/plain": [
              "+-------------------------------------+------------------+-----------------+"
            ]
          },
          "metadata": {
            "tags": []
          }
        },
        {
          "output_type": "display_data",
          "data": {
            "text/html": [
              "<pre>| Elapsed Time (Constructing Lookups) | Total % Complete | Items Processed |</pre>"
            ],
            "text/plain": [
              "| Elapsed Time (Constructing Lookups) | Total % Complete | Items Processed |"
            ]
          },
          "metadata": {
            "tags": []
          }
        },
        {
          "output_type": "display_data",
          "data": {
            "text/html": [
              "<pre>+-------------------------------------+------------------+-----------------+</pre>"
            ],
            "text/plain": [
              "+-------------------------------------+------------------+-----------------+"
            ]
          },
          "metadata": {
            "tags": []
          }
        },
        {
          "output_type": "display_data",
          "data": {
            "text/html": [
              "<pre>| 171.767ms                           | 0                | 0               |</pre>"
            ],
            "text/plain": [
              "| 171.767ms                           | 0                | 0               |"
            ]
          },
          "metadata": {
            "tags": []
          }
        },
        {
          "output_type": "display_data",
          "data": {
            "text/html": [
              "<pre>| 1.69s                               | 100              | 12555           |</pre>"
            ],
            "text/plain": [
              "| 1.69s                               | 100              | 12555           |"
            ]
          },
          "metadata": {
            "tags": []
          }
        },
        {
          "output_type": "display_data",
          "data": {
            "text/html": [
              "<pre>+-------------------------------------+------------------+-----------------+</pre>"
            ],
            "text/plain": [
              "+-------------------------------------+------------------+-----------------+"
            ]
          },
          "metadata": {
            "tags": []
          }
        },
        {
          "output_type": "display_data",
          "data": {
            "text/html": [
              "<pre>Finalizing lookup tables.</pre>"
            ],
            "text/plain": [
              "Finalizing lookup tables."
            ]
          },
          "metadata": {
            "tags": []
          }
        },
        {
          "output_type": "display_data",
          "data": {
            "text/html": [
              "<pre>Generating candidate set for working with new users.</pre>"
            ],
            "text/plain": [
              "Generating candidate set for working with new users."
            ]
          },
          "metadata": {
            "tags": []
          }
        },
        {
          "output_type": "display_data",
          "data": {
            "text/html": [
              "<pre>Finished training in 1.73315s</pre>"
            ],
            "text/plain": [
              "Finished training in 1.73315s"
            ]
          },
          "metadata": {
            "tags": []
          }
        },
        {
          "output_type": "display_data",
          "data": {
            "text/html": [
              "<pre>recommendations finished on 1000/9729 queries. users per second: 5134.5</pre>"
            ],
            "text/plain": [
              "recommendations finished on 1000/9729 queries. users per second: 5134.5"
            ]
          },
          "metadata": {
            "tags": []
          }
        },
        {
          "output_type": "display_data",
          "data": {
            "text/html": [
              "<pre>recommendations finished on 2000/9729 queries. users per second: 5142.49</pre>"
            ],
            "text/plain": [
              "recommendations finished on 2000/9729 queries. users per second: 5142.49"
            ]
          },
          "metadata": {
            "tags": []
          }
        },
        {
          "output_type": "display_data",
          "data": {
            "text/html": [
              "<pre>recommendations finished on 3000/9729 queries. users per second: 5124.32</pre>"
            ],
            "text/plain": [
              "recommendations finished on 3000/9729 queries. users per second: 5124.32"
            ]
          },
          "metadata": {
            "tags": []
          }
        },
        {
          "output_type": "display_data",
          "data": {
            "text/html": [
              "<pre>recommendations finished on 4000/9729 queries. users per second: 5092.33</pre>"
            ],
            "text/plain": [
              "recommendations finished on 4000/9729 queries. users per second: 5092.33"
            ]
          },
          "metadata": {
            "tags": []
          }
        },
        {
          "output_type": "display_data",
          "data": {
            "text/html": [
              "<pre>recommendations finished on 5000/9729 queries. users per second: 5106.39</pre>"
            ],
            "text/plain": [
              "recommendations finished on 5000/9729 queries. users per second: 5106.39"
            ]
          },
          "metadata": {
            "tags": []
          }
        },
        {
          "output_type": "display_data",
          "data": {
            "text/html": [
              "<pre>recommendations finished on 6000/9729 queries. users per second: 5108.5</pre>"
            ],
            "text/plain": [
              "recommendations finished on 6000/9729 queries. users per second: 5108.5"
            ]
          },
          "metadata": {
            "tags": []
          }
        },
        {
          "output_type": "display_data",
          "data": {
            "text/html": [
              "<pre>recommendations finished on 7000/9729 queries. users per second: 5104.47</pre>"
            ],
            "text/plain": [
              "recommendations finished on 7000/9729 queries. users per second: 5104.47"
            ]
          },
          "metadata": {
            "tags": []
          }
        },
        {
          "output_type": "display_data",
          "data": {
            "text/html": [
              "<pre>recommendations finished on 8000/9729 queries. users per second: 5115.05</pre>"
            ],
            "text/plain": [
              "recommendations finished on 8000/9729 queries. users per second: 5115.05"
            ]
          },
          "metadata": {
            "tags": []
          }
        },
        {
          "output_type": "display_data",
          "data": {
            "text/html": [
              "<pre>recommendations finished on 9000/9729 queries. users per second: 5120.7</pre>"
            ],
            "text/plain": [
              "recommendations finished on 9000/9729 queries. users per second: 5120.7"
            ]
          },
          "metadata": {
            "tags": []
          }
        },
        {
          "output_type": "stream",
          "text": [
            "+------------+---------------+----------------------+------+\n",
            "| customerId |   productId   |        score         | rank |\n",
            "+------------+---------------+----------------------+------+\n",
            "|  1104905   | 4711524000471 | 0.061190160838040436 |  1   |\n",
            "|  1104905   | 4711524000419 | 0.05536611513658003  |  2   |\n",
            "|  1104905   | 4711524000433 | 0.05387516455216841  |  3   |\n",
            "|  1104905   | 4711524000495 |  0.0534362251108343  |  4   |\n",
            "|  1104905   | 4711524000617 | 0.04892170429229736  |  5   |\n",
            "|  1104905   | 4719111208132 | 0.045454545454545456 |  6   |\n",
            "|  1104905   |    20494803   | 0.04065578092228283  |  7   |\n",
            "|  1104905   | 4714082260080 | 0.04065578092228283  |  8   |\n",
            "|  1104905   | 4714082100942 | 0.04065578092228283  |  9   |\n",
            "|  1104905   | 4713045614519 | 0.04065578092228283  |  10  |\n",
            "|   418683   | 4710011406123 |  0.3654307723045349  |  1   |\n",
            "|   418683   | 4710011409056 | 0.35480377078056335  |  2   |\n",
            "|   418683   | 4710011405133 |  0.3154452443122864  |  3   |\n",
            "|   418683   | 4710011401142 | 0.22843143343925476  |  4   |\n",
            "|   418683   | 4710857000059 | 0.19892346858978271  |  5   |\n",
            "|   418683   | 4710857000028 |  0.1559116542339325  |  6   |\n",
            "|   418683   | 4710011412223 |  0.1528814435005188  |  7   |\n",
            "|   418683   | 4710011432825 | 0.14054137468338013  |  8   |\n",
            "|   418683   | 4710583510051 |  0.127873033285141   |  9   |\n",
            "|   418683   | 4710857000042 |  0.1257166862487793  |  10  |\n",
            "|  1057331   | 4710177035137 | 0.07216878235340118  |  1   |\n",
            "|  1057331   | 4710017002091 | 0.060184285044670105 |  2   |\n",
            "|  1057331   | 4955814110529 | 0.060184285044670105 |  3   |\n",
            "|  1057331   | 4713888603213 | 0.05103103816509247  |  4   |\n",
            "|  1057331   | 4713888602926 | 0.05103103816509247  |  5   |\n",
            "|  1057331   | 9310022705601 |  0.0497652143239975  |  6   |\n",
            "|  1057331   | 4710017081249 | 0.043372660875320435 |  7   |\n",
            "|  1057331   |    20072353   | 0.04255671799182892  |  8   |\n",
            "|  1057331   | 4987234131204 | 0.04255671799182892  |  9   |\n",
            "|  1057331   | 4712187012986 | 0.04255671799182892  |  10  |\n",
            "+------------+---------------+----------------------+------+\n",
            "[97290 rows x 4 columns]\n",
            "\n"
          ],
          "name": "stdout"
        }
      ]
    },
    {
      "metadata": {
        "id": "fz2rzyEz8jpo",
        "colab_type": "text"
      },
      "cell_type": "markdown",
      "source": [
        "** 2.3 Collaborative Filtering Model with Cosine similarity based on normalized purchase count** "
      ]
    },
    {
      "metadata": {
        "id": "FBEByA9o8gel",
        "colab_type": "code",
        "colab": {
          "base_uri": "https://localhost:8080/",
          "height": 1156
        },
        "outputId": "31dfcd08-901b-42c4-85aa-4a185179668f"
      },
      "cell_type": "code",
      "source": [
        "name = 'cosine'\n",
        "target = 'scaled_purchase_freq'\n",
        "cos_norm = model(train_data_norm, name, user_id, item_id, target, users_to_recommend, n_rec, n_display)"
      ],
      "execution_count": 33,
      "outputs": [
        {
          "output_type": "display_data",
          "data": {
            "text/html": [
              "<pre>Preparing data set.</pre>"
            ],
            "text/plain": [
              "Preparing data set."
            ]
          },
          "metadata": {
            "tags": []
          }
        },
        {
          "output_type": "display_data",
          "data": {
            "text/html": [
              "<pre>    Data has 28012 observations with 8035 users and 815 items.</pre>"
            ],
            "text/plain": [
              "    Data has 28012 observations with 8035 users and 815 items."
            ]
          },
          "metadata": {
            "tags": []
          }
        },
        {
          "output_type": "display_data",
          "data": {
            "text/html": [
              "<pre>    Data prepared in: 0.048548s</pre>"
            ],
            "text/plain": [
              "    Data prepared in: 0.048548s"
            ]
          },
          "metadata": {
            "tags": []
          }
        },
        {
          "output_type": "display_data",
          "data": {
            "text/html": [
              "<pre>Training model from provided data.</pre>"
            ],
            "text/plain": [
              "Training model from provided data."
            ]
          },
          "metadata": {
            "tags": []
          }
        },
        {
          "output_type": "display_data",
          "data": {
            "text/html": [
              "<pre>Gathering per-item and per-user statistics.</pre>"
            ],
            "text/plain": [
              "Gathering per-item and per-user statistics."
            ]
          },
          "metadata": {
            "tags": []
          }
        },
        {
          "output_type": "display_data",
          "data": {
            "text/html": [
              "<pre>+--------------------------------+------------+</pre>"
            ],
            "text/plain": [
              "+--------------------------------+------------+"
            ]
          },
          "metadata": {
            "tags": []
          }
        },
        {
          "output_type": "display_data",
          "data": {
            "text/html": [
              "<pre>| Elapsed Time (Item Statistics) | % Complete |</pre>"
            ],
            "text/plain": [
              "| Elapsed Time (Item Statistics) | % Complete |"
            ]
          },
          "metadata": {
            "tags": []
          }
        },
        {
          "output_type": "display_data",
          "data": {
            "text/html": [
              "<pre>+--------------------------------+------------+</pre>"
            ],
            "text/plain": [
              "+--------------------------------+------------+"
            ]
          },
          "metadata": {
            "tags": []
          }
        },
        {
          "output_type": "display_data",
          "data": {
            "text/html": [
              "<pre>| 1.001ms                        | 12.25      |</pre>"
            ],
            "text/plain": [
              "| 1.001ms                        | 12.25      |"
            ]
          },
          "metadata": {
            "tags": []
          }
        },
        {
          "output_type": "display_data",
          "data": {
            "text/html": [
              "<pre>| 3.341ms                        | 100        |</pre>"
            ],
            "text/plain": [
              "| 3.341ms                        | 100        |"
            ]
          },
          "metadata": {
            "tags": []
          }
        },
        {
          "output_type": "display_data",
          "data": {
            "text/html": [
              "<pre>+--------------------------------+------------+</pre>"
            ],
            "text/plain": [
              "+--------------------------------+------------+"
            ]
          },
          "metadata": {
            "tags": []
          }
        },
        {
          "output_type": "display_data",
          "data": {
            "text/html": [
              "<pre>Setting up lookup tables.</pre>"
            ],
            "text/plain": [
              "Setting up lookup tables."
            ]
          },
          "metadata": {
            "tags": []
          }
        },
        {
          "output_type": "display_data",
          "data": {
            "text/html": [
              "<pre>Processing data in one pass using dense lookup tables.</pre>"
            ],
            "text/plain": [
              "Processing data in one pass using dense lookup tables."
            ]
          },
          "metadata": {
            "tags": []
          }
        },
        {
          "output_type": "display_data",
          "data": {
            "text/html": [
              "<pre>+-------------------------------------+------------------+-----------------+</pre>"
            ],
            "text/plain": [
              "+-------------------------------------+------------------+-----------------+"
            ]
          },
          "metadata": {
            "tags": []
          }
        },
        {
          "output_type": "display_data",
          "data": {
            "text/html": [
              "<pre>| Elapsed Time (Constructing Lookups) | Total % Complete | Items Processed |</pre>"
            ],
            "text/plain": [
              "| Elapsed Time (Constructing Lookups) | Total % Complete | Items Processed |"
            ]
          },
          "metadata": {
            "tags": []
          }
        },
        {
          "output_type": "display_data",
          "data": {
            "text/html": [
              "<pre>+-------------------------------------+------------------+-----------------+</pre>"
            ],
            "text/plain": [
              "+-------------------------------------+------------------+-----------------+"
            ]
          },
          "metadata": {
            "tags": []
          }
        },
        {
          "output_type": "display_data",
          "data": {
            "text/html": [
              "<pre>| 4.778ms                             | 0                | 0               |</pre>"
            ],
            "text/plain": [
              "| 4.778ms                             | 0                | 0               |"
            ]
          },
          "metadata": {
            "tags": []
          }
        },
        {
          "output_type": "display_data",
          "data": {
            "text/html": [
              "<pre>| 30.414ms                            | 100              | 815             |</pre>"
            ],
            "text/plain": [
              "| 30.414ms                            | 100              | 815             |"
            ]
          },
          "metadata": {
            "tags": []
          }
        },
        {
          "output_type": "display_data",
          "data": {
            "text/html": [
              "<pre>+-------------------------------------+------------------+-----------------+</pre>"
            ],
            "text/plain": [
              "+-------------------------------------+------------------+-----------------+"
            ]
          },
          "metadata": {
            "tags": []
          }
        },
        {
          "output_type": "display_data",
          "data": {
            "text/html": [
              "<pre>Finalizing lookup tables.</pre>"
            ],
            "text/plain": [
              "Finalizing lookup tables."
            ]
          },
          "metadata": {
            "tags": []
          }
        },
        {
          "output_type": "display_data",
          "data": {
            "text/html": [
              "<pre>Generating candidate set for working with new users.</pre>"
            ],
            "text/plain": [
              "Generating candidate set for working with new users."
            ]
          },
          "metadata": {
            "tags": []
          }
        },
        {
          "output_type": "display_data",
          "data": {
            "text/html": [
              "<pre>Finished training in 0.034575s</pre>"
            ],
            "text/plain": [
              "Finished training in 0.034575s"
            ]
          },
          "metadata": {
            "tags": []
          }
        },
        {
          "output_type": "display_data",
          "data": {
            "text/html": [
              "<pre>recommendations finished on 1000/9729 queries. users per second: 38124.3</pre>"
            ],
            "text/plain": [
              "recommendations finished on 1000/9729 queries. users per second: 38124.3"
            ]
          },
          "metadata": {
            "tags": []
          }
        },
        {
          "output_type": "display_data",
          "data": {
            "text/html": [
              "<pre>recommendations finished on 2000/9729 queries. users per second: 39190.3</pre>"
            ],
            "text/plain": [
              "recommendations finished on 2000/9729 queries. users per second: 39190.3"
            ]
          },
          "metadata": {
            "tags": []
          }
        },
        {
          "output_type": "display_data",
          "data": {
            "text/html": [
              "<pre>recommendations finished on 3000/9729 queries. users per second: 35166.3</pre>"
            ],
            "text/plain": [
              "recommendations finished on 3000/9729 queries. users per second: 35166.3"
            ]
          },
          "metadata": {
            "tags": []
          }
        },
        {
          "output_type": "display_data",
          "data": {
            "text/html": [
              "<pre>recommendations finished on 4000/9729 queries. users per second: 38731.5</pre>"
            ],
            "text/plain": [
              "recommendations finished on 4000/9729 queries. users per second: 38731.5"
            ]
          },
          "metadata": {
            "tags": []
          }
        },
        {
          "output_type": "display_data",
          "data": {
            "text/html": [
              "<pre>recommendations finished on 5000/9729 queries. users per second: 40705</pre>"
            ],
            "text/plain": [
              "recommendations finished on 5000/9729 queries. users per second: 40705"
            ]
          },
          "metadata": {
            "tags": []
          }
        },
        {
          "output_type": "display_data",
          "data": {
            "text/html": [
              "<pre>recommendations finished on 6000/9729 queries. users per second: 41683.7</pre>"
            ],
            "text/plain": [
              "recommendations finished on 6000/9729 queries. users per second: 41683.7"
            ]
          },
          "metadata": {
            "tags": []
          }
        },
        {
          "output_type": "display_data",
          "data": {
            "text/html": [
              "<pre>recommendations finished on 7000/9729 queries. users per second: 43044.1</pre>"
            ],
            "text/plain": [
              "recommendations finished on 7000/9729 queries. users per second: 43044.1"
            ]
          },
          "metadata": {
            "tags": []
          }
        },
        {
          "output_type": "display_data",
          "data": {
            "text/html": [
              "<pre>recommendations finished on 8000/9729 queries. users per second: 43660.5</pre>"
            ],
            "text/plain": [
              "recommendations finished on 8000/9729 queries. users per second: 43660.5"
            ]
          },
          "metadata": {
            "tags": []
          }
        },
        {
          "output_type": "display_data",
          "data": {
            "text/html": [
              "<pre>recommendations finished on 9000/9729 queries. users per second: 43333</pre>"
            ],
            "text/plain": [
              "recommendations finished on 9000/9729 queries. users per second: 43333"
            ]
          },
          "metadata": {
            "tags": []
          }
        },
        {
          "output_type": "stream",
          "text": [
            "+------------+---------------+-------+------+\n",
            "| customerId |   productId   | score | rank |\n",
            "+------------+---------------+-------+------+\n",
            "|  1104905   | 4710008290155 |  0.0  |  1   |\n",
            "|  1104905   | 4710421090059 |  0.0  |  2   |\n",
            "|  1104905   | 8801019931536 |  0.0  |  3   |\n",
            "|  1104905   |    93457552   |  0.0  |  4   |\n",
            "|  1104905   | 4711634002587 |  0.0  |  5   |\n",
            "|  1104905   | 4710421090011 |  0.0  |  6   |\n",
            "|  1104905   | 4712019100607 |  0.0  |  7   |\n",
            "|  1104905   | 4710088433305 |  0.0  |  8   |\n",
            "|  1104905   | 4710323168054 |  0.0  |  9   |\n",
            "|  1104905   | 4711863180070 |  0.0  |  10  |\n",
            "|   418683   | 4710008290155 |  0.0  |  1   |\n",
            "|   418683   | 4710421090059 |  0.0  |  2   |\n",
            "|   418683   | 8801019931536 |  0.0  |  3   |\n",
            "|   418683   |    93457552   |  0.0  |  4   |\n",
            "|   418683   | 4711634002587 |  0.0  |  5   |\n",
            "|   418683   | 4710421090011 |  0.0  |  6   |\n",
            "|   418683   | 4712019100607 |  0.0  |  7   |\n",
            "|   418683   | 4710088433305 |  0.0  |  8   |\n",
            "|   418683   | 4710323168054 |  0.0  |  9   |\n",
            "|   418683   | 4711863180070 |  0.0  |  10  |\n",
            "|  1057331   | 4710008290155 |  0.0  |  1   |\n",
            "|  1057331   | 4710421090059 |  0.0  |  2   |\n",
            "|  1057331   | 8801019931536 |  0.0  |  3   |\n",
            "|  1057331   |    93457552   |  0.0  |  4   |\n",
            "|  1057331   | 4711634002587 |  0.0  |  5   |\n",
            "|  1057331   | 4710421090011 |  0.0  |  6   |\n",
            "|  1057331   | 4712019100607 |  0.0  |  7   |\n",
            "|  1057331   | 4710088433305 |  0.0  |  8   |\n",
            "|  1057331   | 4710323168054 |  0.0  |  9   |\n",
            "|  1057331   | 4711863180070 |  0.0  |  10  |\n",
            "+------------+---------------+-------+------+\n",
            "[97290 rows x 4 columns]\n",
            "\n"
          ],
          "name": "stdout"
        }
      ]
    },
    {
      "metadata": {
        "id": "y6OhDeZX9TUU",
        "colab_type": "text"
      },
      "cell_type": "markdown",
      "source": [
        "** 3.1 Collaborative Filtering Model with Cosine similarity based on purchase count** "
      ]
    },
    {
      "metadata": {
        "id": "yOWJxOLK9RFh",
        "colab_type": "code",
        "colab": {
          "base_uri": "https://localhost:8080/",
          "height": 1156
        },
        "outputId": "dacc5464-6ab9-4ef0-a109-a6103499afad"
      },
      "cell_type": "code",
      "source": [
        "# these variables will change accordingly\n",
        "name = 'pearson'\n",
        "target = 'purchase_count'\n",
        "pear = model(train_data, name, user_id, item_id, target, users_to_recommend, n_rec, n_display)"
      ],
      "execution_count": 34,
      "outputs": [
        {
          "output_type": "display_data",
          "data": {
            "text/html": [
              "<pre>Preparing data set.</pre>"
            ],
            "text/plain": [
              "Preparing data set."
            ]
          },
          "metadata": {
            "tags": []
          }
        },
        {
          "output_type": "display_data",
          "data": {
            "text/html": [
              "<pre>    Data has 78669 observations with 9483 users and 12571 items.</pre>"
            ],
            "text/plain": [
              "    Data has 78669 observations with 9483 users and 12571 items."
            ]
          },
          "metadata": {
            "tags": []
          }
        },
        {
          "output_type": "display_data",
          "data": {
            "text/html": [
              "<pre>    Data prepared in: 0.116219s</pre>"
            ],
            "text/plain": [
              "    Data prepared in: 0.116219s"
            ]
          },
          "metadata": {
            "tags": []
          }
        },
        {
          "output_type": "display_data",
          "data": {
            "text/html": [
              "<pre>Training model from provided data.</pre>"
            ],
            "text/plain": [
              "Training model from provided data."
            ]
          },
          "metadata": {
            "tags": []
          }
        },
        {
          "output_type": "display_data",
          "data": {
            "text/html": [
              "<pre>Gathering per-item and per-user statistics.</pre>"
            ],
            "text/plain": [
              "Gathering per-item and per-user statistics."
            ]
          },
          "metadata": {
            "tags": []
          }
        },
        {
          "output_type": "display_data",
          "data": {
            "text/html": [
              "<pre>+--------------------------------+------------+</pre>"
            ],
            "text/plain": [
              "+--------------------------------+------------+"
            ]
          },
          "metadata": {
            "tags": []
          }
        },
        {
          "output_type": "display_data",
          "data": {
            "text/html": [
              "<pre>| Elapsed Time (Item Statistics) | % Complete |</pre>"
            ],
            "text/plain": [
              "| Elapsed Time (Item Statistics) | % Complete |"
            ]
          },
          "metadata": {
            "tags": []
          }
        },
        {
          "output_type": "display_data",
          "data": {
            "text/html": [
              "<pre>+--------------------------------+------------+</pre>"
            ],
            "text/plain": [
              "+--------------------------------+------------+"
            ]
          },
          "metadata": {
            "tags": []
          }
        },
        {
          "output_type": "display_data",
          "data": {
            "text/html": [
              "<pre>| 13.055ms                       | 10.5       |</pre>"
            ],
            "text/plain": [
              "| 13.055ms                       | 10.5       |"
            ]
          },
          "metadata": {
            "tags": []
          }
        },
        {
          "output_type": "display_data",
          "data": {
            "text/html": [
              "<pre>| 21.911ms                       | 100        |</pre>"
            ],
            "text/plain": [
              "| 21.911ms                       | 100        |"
            ]
          },
          "metadata": {
            "tags": []
          }
        },
        {
          "output_type": "display_data",
          "data": {
            "text/html": [
              "<pre>+--------------------------------+------------+</pre>"
            ],
            "text/plain": [
              "+--------------------------------+------------+"
            ]
          },
          "metadata": {
            "tags": []
          }
        },
        {
          "output_type": "display_data",
          "data": {
            "text/html": [
              "<pre>Setting up lookup tables.</pre>"
            ],
            "text/plain": [
              "Setting up lookup tables."
            ]
          },
          "metadata": {
            "tags": []
          }
        },
        {
          "output_type": "display_data",
          "data": {
            "text/html": [
              "<pre>Processing data in one pass using dense lookup tables.</pre>"
            ],
            "text/plain": [
              "Processing data in one pass using dense lookup tables."
            ]
          },
          "metadata": {
            "tags": []
          }
        },
        {
          "output_type": "display_data",
          "data": {
            "text/html": [
              "<pre>+-------------------------------------+------------------+-----------------+</pre>"
            ],
            "text/plain": [
              "+-------------------------------------+------------------+-----------------+"
            ]
          },
          "metadata": {
            "tags": []
          }
        },
        {
          "output_type": "display_data",
          "data": {
            "text/html": [
              "<pre>| Elapsed Time (Constructing Lookups) | Total % Complete | Items Processed |</pre>"
            ],
            "text/plain": [
              "| Elapsed Time (Constructing Lookups) | Total % Complete | Items Processed |"
            ]
          },
          "metadata": {
            "tags": []
          }
        },
        {
          "output_type": "display_data",
          "data": {
            "text/html": [
              "<pre>+-------------------------------------+------------------+-----------------+</pre>"
            ],
            "text/plain": [
              "+-------------------------------------+------------------+-----------------+"
            ]
          },
          "metadata": {
            "tags": []
          }
        },
        {
          "output_type": "display_data",
          "data": {
            "text/html": [
              "<pre>| 221.39ms                            | 0                | 9               |</pre>"
            ],
            "text/plain": [
              "| 221.39ms                            | 0                | 9               |"
            ]
          },
          "metadata": {
            "tags": []
          }
        },
        {
          "output_type": "display_data",
          "data": {
            "text/html": [
              "<pre>| 1.23s                               | 100              | 12571           |</pre>"
            ],
            "text/plain": [
              "| 1.23s                               | 100              | 12571           |"
            ]
          },
          "metadata": {
            "tags": []
          }
        },
        {
          "output_type": "display_data",
          "data": {
            "text/html": [
              "<pre>+-------------------------------------+------------------+-----------------+</pre>"
            ],
            "text/plain": [
              "+-------------------------------------+------------------+-----------------+"
            ]
          },
          "metadata": {
            "tags": []
          }
        },
        {
          "output_type": "display_data",
          "data": {
            "text/html": [
              "<pre>Finalizing lookup tables.</pre>"
            ],
            "text/plain": [
              "Finalizing lookup tables."
            ]
          },
          "metadata": {
            "tags": []
          }
        },
        {
          "output_type": "display_data",
          "data": {
            "text/html": [
              "<pre>Generating candidate set for working with new users.</pre>"
            ],
            "text/plain": [
              "Generating candidate set for working with new users."
            ]
          },
          "metadata": {
            "tags": []
          }
        },
        {
          "output_type": "display_data",
          "data": {
            "text/html": [
              "<pre>Finished training in 1.25338s</pre>"
            ],
            "text/plain": [
              "Finished training in 1.25338s"
            ]
          },
          "metadata": {
            "tags": []
          }
        },
        {
          "output_type": "display_data",
          "data": {
            "text/html": [
              "<pre>recommendations finished on 1000/9729 queries. users per second: 4855.83</pre>"
            ],
            "text/plain": [
              "recommendations finished on 1000/9729 queries. users per second: 4855.83"
            ]
          },
          "metadata": {
            "tags": []
          }
        },
        {
          "output_type": "display_data",
          "data": {
            "text/html": [
              "<pre>recommendations finished on 2000/9729 queries. users per second: 4852.63</pre>"
            ],
            "text/plain": [
              "recommendations finished on 2000/9729 queries. users per second: 4852.63"
            ]
          },
          "metadata": {
            "tags": []
          }
        },
        {
          "output_type": "display_data",
          "data": {
            "text/html": [
              "<pre>recommendations finished on 3000/9729 queries. users per second: 4860.6</pre>"
            ],
            "text/plain": [
              "recommendations finished on 3000/9729 queries. users per second: 4860.6"
            ]
          },
          "metadata": {
            "tags": []
          }
        },
        {
          "output_type": "display_data",
          "data": {
            "text/html": [
              "<pre>recommendations finished on 4000/9729 queries. users per second: 4842.63</pre>"
            ],
            "text/plain": [
              "recommendations finished on 4000/9729 queries. users per second: 4842.63"
            ]
          },
          "metadata": {
            "tags": []
          }
        },
        {
          "output_type": "display_data",
          "data": {
            "text/html": [
              "<pre>recommendations finished on 5000/9729 queries. users per second: 4841.36</pre>"
            ],
            "text/plain": [
              "recommendations finished on 5000/9729 queries. users per second: 4841.36"
            ]
          },
          "metadata": {
            "tags": []
          }
        },
        {
          "output_type": "display_data",
          "data": {
            "text/html": [
              "<pre>recommendations finished on 6000/9729 queries. users per second: 4852.86</pre>"
            ],
            "text/plain": [
              "recommendations finished on 6000/9729 queries. users per second: 4852.86"
            ]
          },
          "metadata": {
            "tags": []
          }
        },
        {
          "output_type": "display_data",
          "data": {
            "text/html": [
              "<pre>recommendations finished on 7000/9729 queries. users per second: 4840.78</pre>"
            ],
            "text/plain": [
              "recommendations finished on 7000/9729 queries. users per second: 4840.78"
            ]
          },
          "metadata": {
            "tags": []
          }
        },
        {
          "output_type": "display_data",
          "data": {
            "text/html": [
              "<pre>recommendations finished on 8000/9729 queries. users per second: 4840.12</pre>"
            ],
            "text/plain": [
              "recommendations finished on 8000/9729 queries. users per second: 4840.12"
            ]
          },
          "metadata": {
            "tags": []
          }
        },
        {
          "output_type": "display_data",
          "data": {
            "text/html": [
              "<pre>recommendations finished on 9000/9729 queries. users per second: 4830.88</pre>"
            ],
            "text/plain": [
              "recommendations finished on 9000/9729 queries. users per second: 4830.88"
            ]
          },
          "metadata": {
            "tags": []
          }
        },
        {
          "output_type": "stream",
          "text": [
            "+------------+---------------+-------+------+\n",
            "| customerId |   productId   | score | rank |\n",
            "+------------+---------------+-------+------+\n",
            "|  1104905   | 4711703122536 |  3.0  |  1   |\n",
            "|  1104905   |  74570703074  |  3.0  |  2   |\n",
            "|  1104905   | 4713645410122 |  2.0  |  3   |\n",
            "|  1104905   | 4713645632036 |  2.0  |  4   |\n",
            "|  1104905   | 4713045018096 |  2.0  |  5   |\n",
            "|  1104905   | 2100035002364 |  2.0  |  6   |\n",
            "|  1104905   |    20538538   |  2.0  |  7   |\n",
            "|  1104905   | 4710498600847 |  2.0  |  8   |\n",
            "|  1104905   | 4712172200015 |  2.0  |  9   |\n",
            "|  1104905   | 8712045003565 |  2.0  |  10  |\n",
            "|   418683   | 4711703122536 |  3.0  |  1   |\n",
            "|   418683   |  74570703074  |  3.0  |  2   |\n",
            "|   418683   | 4713645410122 |  2.0  |  3   |\n",
            "|   418683   | 4713645632036 |  2.0  |  4   |\n",
            "|   418683   | 4713045018096 |  2.0  |  5   |\n",
            "|   418683   | 2100035002364 |  2.0  |  6   |\n",
            "|   418683   |    20538538   |  2.0  |  7   |\n",
            "|   418683   | 4710498600847 |  2.0  |  8   |\n",
            "|   418683   | 4712172200015 |  2.0  |  9   |\n",
            "|   418683   | 8712045003565 |  2.0  |  10  |\n",
            "|  1057331   | 4711703122536 |  3.0  |  1   |\n",
            "|  1057331   |  74570703074  |  3.0  |  2   |\n",
            "|  1057331   | 4713645410122 |  2.0  |  3   |\n",
            "|  1057331   | 4713645632036 |  2.0  |  4   |\n",
            "|  1057331   | 4713045018096 |  2.0  |  5   |\n",
            "|  1057331   | 2100035002364 |  2.0  |  6   |\n",
            "|  1057331   |    20538538   |  2.0  |  7   |\n",
            "|  1057331   | 4710498600847 |  2.0  |  8   |\n",
            "|  1057331   | 4712172200015 |  2.0  |  9   |\n",
            "|  1057331   | 8712045003565 |  2.0  |  10  |\n",
            "+------------+---------------+-------+------+\n",
            "[97290 rows x 4 columns]\n",
            "\n"
          ],
          "name": "stdout"
        }
      ]
    },
    {
      "metadata": {
        "id": "sYl6SoYW9x9z",
        "colab_type": "text"
      },
      "cell_type": "markdown",
      "source": [
        "** 3.2 Collaborative Filtering Model with Cosine similarity based on purchase dummy** "
      ]
    },
    {
      "metadata": {
        "id": "e4b7ZBd-9fcE",
        "colab_type": "code",
        "colab": {
          "base_uri": "https://localhost:8080/",
          "height": 1190
        },
        "outputId": "2d41ce6e-938f-4c13-87bb-9b69f19aca1f"
      },
      "cell_type": "code",
      "source": [
        "# these variables will change accordingly\n",
        "name = 'pearson'\n",
        "target = 'purchase_dummy'\n",
        "pear_dummy = model(train_data_dummy, name, user_id, item_id, target, users_to_recommend, n_rec, n_display)"
      ],
      "execution_count": 35,
      "outputs": [
        {
          "output_type": "display_data",
          "data": {
            "text/html": [
              "<pre>Warning: Ignoring columns purchase_count;</pre>"
            ],
            "text/plain": [
              "Warning: Ignoring columns purchase_count;"
            ]
          },
          "metadata": {
            "tags": []
          }
        },
        {
          "output_type": "display_data",
          "data": {
            "text/html": [
              "<pre>    To use these columns in scoring predictions, use a model that allows the use of additional features.</pre>"
            ],
            "text/plain": [
              "    To use these columns in scoring predictions, use a model that allows the use of additional features."
            ]
          },
          "metadata": {
            "tags": []
          }
        },
        {
          "output_type": "display_data",
          "data": {
            "text/html": [
              "<pre>Preparing data set.</pre>"
            ],
            "text/plain": [
              "Preparing data set."
            ]
          },
          "metadata": {
            "tags": []
          }
        },
        {
          "output_type": "display_data",
          "data": {
            "text/html": [
              "<pre>    Data has 78669 observations with 9493 users and 12555 items.</pre>"
            ],
            "text/plain": [
              "    Data has 78669 observations with 9493 users and 12555 items."
            ]
          },
          "metadata": {
            "tags": []
          }
        },
        {
          "output_type": "display_data",
          "data": {
            "text/html": [
              "<pre>    Data prepared in: 0.121722s</pre>"
            ],
            "text/plain": [
              "    Data prepared in: 0.121722s"
            ]
          },
          "metadata": {
            "tags": []
          }
        },
        {
          "output_type": "display_data",
          "data": {
            "text/html": [
              "<pre>Training model from provided data.</pre>"
            ],
            "text/plain": [
              "Training model from provided data."
            ]
          },
          "metadata": {
            "tags": []
          }
        },
        {
          "output_type": "display_data",
          "data": {
            "text/html": [
              "<pre>Gathering per-item and per-user statistics.</pre>"
            ],
            "text/plain": [
              "Gathering per-item and per-user statistics."
            ]
          },
          "metadata": {
            "tags": []
          }
        },
        {
          "output_type": "display_data",
          "data": {
            "text/html": [
              "<pre>+--------------------------------+------------+</pre>"
            ],
            "text/plain": [
              "+--------------------------------+------------+"
            ]
          },
          "metadata": {
            "tags": []
          }
        },
        {
          "output_type": "display_data",
          "data": {
            "text/html": [
              "<pre>| Elapsed Time (Item Statistics) | % Complete |</pre>"
            ],
            "text/plain": [
              "| Elapsed Time (Item Statistics) | % Complete |"
            ]
          },
          "metadata": {
            "tags": []
          }
        },
        {
          "output_type": "display_data",
          "data": {
            "text/html": [
              "<pre>+--------------------------------+------------+</pre>"
            ],
            "text/plain": [
              "+--------------------------------+------------+"
            ]
          },
          "metadata": {
            "tags": []
          }
        },
        {
          "output_type": "display_data",
          "data": {
            "text/html": [
              "<pre>| 14.461ms                       | 10.5       |</pre>"
            ],
            "text/plain": [
              "| 14.461ms                       | 10.5       |"
            ]
          },
          "metadata": {
            "tags": []
          }
        },
        {
          "output_type": "display_data",
          "data": {
            "text/html": [
              "<pre>| 23.596ms                       | 100        |</pre>"
            ],
            "text/plain": [
              "| 23.596ms                       | 100        |"
            ]
          },
          "metadata": {
            "tags": []
          }
        },
        {
          "output_type": "display_data",
          "data": {
            "text/html": [
              "<pre>+--------------------------------+------------+</pre>"
            ],
            "text/plain": [
              "+--------------------------------+------------+"
            ]
          },
          "metadata": {
            "tags": []
          }
        },
        {
          "output_type": "display_data",
          "data": {
            "text/html": [
              "<pre>Setting up lookup tables.</pre>"
            ],
            "text/plain": [
              "Setting up lookup tables."
            ]
          },
          "metadata": {
            "tags": []
          }
        },
        {
          "output_type": "display_data",
          "data": {
            "text/html": [
              "<pre>Processing data in one pass using dense lookup tables.</pre>"
            ],
            "text/plain": [
              "Processing data in one pass using dense lookup tables."
            ]
          },
          "metadata": {
            "tags": []
          }
        },
        {
          "output_type": "display_data",
          "data": {
            "text/html": [
              "<pre>+-------------------------------------+------------------+-----------------+</pre>"
            ],
            "text/plain": [
              "+-------------------------------------+------------------+-----------------+"
            ]
          },
          "metadata": {
            "tags": []
          }
        },
        {
          "output_type": "display_data",
          "data": {
            "text/html": [
              "<pre>| Elapsed Time (Constructing Lookups) | Total % Complete | Items Processed |</pre>"
            ],
            "text/plain": [
              "| Elapsed Time (Constructing Lookups) | Total % Complete | Items Processed |"
            ]
          },
          "metadata": {
            "tags": []
          }
        },
        {
          "output_type": "display_data",
          "data": {
            "text/html": [
              "<pre>+-------------------------------------+------------------+-----------------+</pre>"
            ],
            "text/plain": [
              "+-------------------------------------+------------------+-----------------+"
            ]
          },
          "metadata": {
            "tags": []
          }
        },
        {
          "output_type": "display_data",
          "data": {
            "text/html": [
              "<pre>| 222.821ms                           | 0                | 0               |</pre>"
            ],
            "text/plain": [
              "| 222.821ms                           | 0                | 0               |"
            ]
          },
          "metadata": {
            "tags": []
          }
        },
        {
          "output_type": "display_data",
          "data": {
            "text/html": [
              "<pre>| 1.21s                               | 100              | 12555           |</pre>"
            ],
            "text/plain": [
              "| 1.21s                               | 100              | 12555           |"
            ]
          },
          "metadata": {
            "tags": []
          }
        },
        {
          "output_type": "display_data",
          "data": {
            "text/html": [
              "<pre>+-------------------------------------+------------------+-----------------+</pre>"
            ],
            "text/plain": [
              "+-------------------------------------+------------------+-----------------+"
            ]
          },
          "metadata": {
            "tags": []
          }
        },
        {
          "output_type": "display_data",
          "data": {
            "text/html": [
              "<pre>Finalizing lookup tables.</pre>"
            ],
            "text/plain": [
              "Finalizing lookup tables."
            ]
          },
          "metadata": {
            "tags": []
          }
        },
        {
          "output_type": "display_data",
          "data": {
            "text/html": [
              "<pre>Generating candidate set for working with new users.</pre>"
            ],
            "text/plain": [
              "Generating candidate set for working with new users."
            ]
          },
          "metadata": {
            "tags": []
          }
        },
        {
          "output_type": "display_data",
          "data": {
            "text/html": [
              "<pre>Finished training in 1.24218s</pre>"
            ],
            "text/plain": [
              "Finished training in 1.24218s"
            ]
          },
          "metadata": {
            "tags": []
          }
        },
        {
          "output_type": "display_data",
          "data": {
            "text/html": [
              "<pre>recommendations finished on 1000/9729 queries. users per second: 4087.22</pre>"
            ],
            "text/plain": [
              "recommendations finished on 1000/9729 queries. users per second: 4087.22"
            ]
          },
          "metadata": {
            "tags": []
          }
        },
        {
          "output_type": "display_data",
          "data": {
            "text/html": [
              "<pre>recommendations finished on 2000/9729 queries. users per second: 4073.99</pre>"
            ],
            "text/plain": [
              "recommendations finished on 2000/9729 queries. users per second: 4073.99"
            ]
          },
          "metadata": {
            "tags": []
          }
        },
        {
          "output_type": "display_data",
          "data": {
            "text/html": [
              "<pre>recommendations finished on 3000/9729 queries. users per second: 4078.42</pre>"
            ],
            "text/plain": [
              "recommendations finished on 3000/9729 queries. users per second: 4078.42"
            ]
          },
          "metadata": {
            "tags": []
          }
        },
        {
          "output_type": "display_data",
          "data": {
            "text/html": [
              "<pre>recommendations finished on 4000/9729 queries. users per second: 4062.4</pre>"
            ],
            "text/plain": [
              "recommendations finished on 4000/9729 queries. users per second: 4062.4"
            ]
          },
          "metadata": {
            "tags": []
          }
        },
        {
          "output_type": "display_data",
          "data": {
            "text/html": [
              "<pre>recommendations finished on 5000/9729 queries. users per second: 4067.94</pre>"
            ],
            "text/plain": [
              "recommendations finished on 5000/9729 queries. users per second: 4067.94"
            ]
          },
          "metadata": {
            "tags": []
          }
        },
        {
          "output_type": "display_data",
          "data": {
            "text/html": [
              "<pre>recommendations finished on 6000/9729 queries. users per second: 4080.11</pre>"
            ],
            "text/plain": [
              "recommendations finished on 6000/9729 queries. users per second: 4080.11"
            ]
          },
          "metadata": {
            "tags": []
          }
        },
        {
          "output_type": "display_data",
          "data": {
            "text/html": [
              "<pre>recommendations finished on 7000/9729 queries. users per second: 4072</pre>"
            ],
            "text/plain": [
              "recommendations finished on 7000/9729 queries. users per second: 4072"
            ]
          },
          "metadata": {
            "tags": []
          }
        },
        {
          "output_type": "display_data",
          "data": {
            "text/html": [
              "<pre>recommendations finished on 8000/9729 queries. users per second: 4073.33</pre>"
            ],
            "text/plain": [
              "recommendations finished on 8000/9729 queries. users per second: 4073.33"
            ]
          },
          "metadata": {
            "tags": []
          }
        },
        {
          "output_type": "display_data",
          "data": {
            "text/html": [
              "<pre>recommendations finished on 9000/9729 queries. users per second: 4072.69</pre>"
            ],
            "text/plain": [
              "recommendations finished on 9000/9729 queries. users per second: 4072.69"
            ]
          },
          "metadata": {
            "tags": []
          }
        },
        {
          "output_type": "stream",
          "text": [
            "+------------+---------------+-------+------+\n",
            "| customerId |   productId   | score | rank |\n",
            "+------------+---------------+-------+------+\n",
            "|  1104905   | 4718176280992 |  0.0  |  1   |\n",
            "|  1104905   | 4710088432353 |  0.0  |  2   |\n",
            "|  1104905   | 8711500638229 |  0.0  |  3   |\n",
            "|  1104905   |  41419761748  |  0.0  |  4   |\n",
            "|  1104905   | 4710498123964 |  0.0  |  5   |\n",
            "|  1104905   | 4710367520054 |  0.0  |  6   |\n",
            "|  1104905   | 4713627810681 |  0.0  |  7   |\n",
            "|  1104905   | 8712000900045 |  0.0  |  8   |\n",
            "|  1104905   | 4715062861105 |  0.0  |  9   |\n",
            "|  1104905   | 4710515535091 |  0.0  |  10  |\n",
            "|   418683   | 4718176280992 |  0.0  |  1   |\n",
            "|   418683   | 4710088432353 |  0.0  |  2   |\n",
            "|   418683   | 8711500638229 |  0.0  |  3   |\n",
            "|   418683   |  41419761748  |  0.0  |  4   |\n",
            "|   418683   | 4710498123964 |  0.0  |  5   |\n",
            "|   418683   | 4710367520054 |  0.0  |  6   |\n",
            "|   418683   | 4713627810681 |  0.0  |  7   |\n",
            "|   418683   | 8712000900045 |  0.0  |  8   |\n",
            "|   418683   | 4715062861105 |  0.0  |  9   |\n",
            "|   418683   | 4710515535091 |  0.0  |  10  |\n",
            "|  1057331   | 4718176280992 |  0.0  |  1   |\n",
            "|  1057331   | 4710088432353 |  0.0  |  2   |\n",
            "|  1057331   | 8711500638229 |  0.0  |  3   |\n",
            "|  1057331   |  41419761748  |  0.0  |  4   |\n",
            "|  1057331   | 4710498123964 |  0.0  |  5   |\n",
            "|  1057331   | 4710367520054 |  0.0  |  6   |\n",
            "|  1057331   | 4713627810681 |  0.0  |  7   |\n",
            "|  1057331   | 8712000900045 |  0.0  |  8   |\n",
            "|  1057331   | 4715062861105 |  0.0  |  9   |\n",
            "|  1057331   | 4710515535091 |  0.0  |  10  |\n",
            "+------------+---------------+-------+------+\n",
            "[97290 rows x 4 columns]\n",
            "\n"
          ],
          "name": "stdout"
        }
      ]
    },
    {
      "metadata": {
        "id": "6m_Q-IxZ-pj3",
        "colab_type": "text"
      },
      "cell_type": "markdown",
      "source": [
        "** 3.3 Collaborative Filtering Model with Cosine similarity based on normalized purchase count** "
      ]
    },
    {
      "metadata": {
        "id": "r12rBXpF93vT",
        "colab_type": "code",
        "colab": {
          "base_uri": "https://localhost:8080/",
          "height": 1156
        },
        "outputId": "222c5a80-c997-4bdc-c7cd-185538ead44f"
      },
      "cell_type": "code",
      "source": [
        "name = 'pearson'\n",
        "target = 'scaled_purchase_freq'\n",
        "pear_norm = model(train_data_norm, name, user_id, item_id, target, users_to_recommend, n_rec, n_display)"
      ],
      "execution_count": 36,
      "outputs": [
        {
          "output_type": "display_data",
          "data": {
            "text/html": [
              "<pre>Preparing data set.</pre>"
            ],
            "text/plain": [
              "Preparing data set."
            ]
          },
          "metadata": {
            "tags": []
          }
        },
        {
          "output_type": "display_data",
          "data": {
            "text/html": [
              "<pre>    Data has 28012 observations with 8035 users and 815 items.</pre>"
            ],
            "text/plain": [
              "    Data has 28012 observations with 8035 users and 815 items."
            ]
          },
          "metadata": {
            "tags": []
          }
        },
        {
          "output_type": "display_data",
          "data": {
            "text/html": [
              "<pre>    Data prepared in: 0.048937s</pre>"
            ],
            "text/plain": [
              "    Data prepared in: 0.048937s"
            ]
          },
          "metadata": {
            "tags": []
          }
        },
        {
          "output_type": "display_data",
          "data": {
            "text/html": [
              "<pre>Training model from provided data.</pre>"
            ],
            "text/plain": [
              "Training model from provided data."
            ]
          },
          "metadata": {
            "tags": []
          }
        },
        {
          "output_type": "display_data",
          "data": {
            "text/html": [
              "<pre>Gathering per-item and per-user statistics.</pre>"
            ],
            "text/plain": [
              "Gathering per-item and per-user statistics."
            ]
          },
          "metadata": {
            "tags": []
          }
        },
        {
          "output_type": "display_data",
          "data": {
            "text/html": [
              "<pre>+--------------------------------+------------+</pre>"
            ],
            "text/plain": [
              "+--------------------------------+------------+"
            ]
          },
          "metadata": {
            "tags": []
          }
        },
        {
          "output_type": "display_data",
          "data": {
            "text/html": [
              "<pre>| Elapsed Time (Item Statistics) | % Complete |</pre>"
            ],
            "text/plain": [
              "| Elapsed Time (Item Statistics) | % Complete |"
            ]
          },
          "metadata": {
            "tags": []
          }
        },
        {
          "output_type": "display_data",
          "data": {
            "text/html": [
              "<pre>+--------------------------------+------------+</pre>"
            ],
            "text/plain": [
              "+--------------------------------+------------+"
            ]
          },
          "metadata": {
            "tags": []
          }
        },
        {
          "output_type": "display_data",
          "data": {
            "text/html": [
              "<pre>| 1.229ms                        | 12.25      |</pre>"
            ],
            "text/plain": [
              "| 1.229ms                        | 12.25      |"
            ]
          },
          "metadata": {
            "tags": []
          }
        },
        {
          "output_type": "display_data",
          "data": {
            "text/html": [
              "<pre>| 15.832ms                       | 100        |</pre>"
            ],
            "text/plain": [
              "| 15.832ms                       | 100        |"
            ]
          },
          "metadata": {
            "tags": []
          }
        },
        {
          "output_type": "display_data",
          "data": {
            "text/html": [
              "<pre>+--------------------------------+------------+</pre>"
            ],
            "text/plain": [
              "+--------------------------------+------------+"
            ]
          },
          "metadata": {
            "tags": []
          }
        },
        {
          "output_type": "display_data",
          "data": {
            "text/html": [
              "<pre>Setting up lookup tables.</pre>"
            ],
            "text/plain": [
              "Setting up lookup tables."
            ]
          },
          "metadata": {
            "tags": []
          }
        },
        {
          "output_type": "display_data",
          "data": {
            "text/html": [
              "<pre>Processing data in one pass using dense lookup tables.</pre>"
            ],
            "text/plain": [
              "Processing data in one pass using dense lookup tables."
            ]
          },
          "metadata": {
            "tags": []
          }
        },
        {
          "output_type": "display_data",
          "data": {
            "text/html": [
              "<pre>+-------------------------------------+------------------+-----------------+</pre>"
            ],
            "text/plain": [
              "+-------------------------------------+------------------+-----------------+"
            ]
          },
          "metadata": {
            "tags": []
          }
        },
        {
          "output_type": "display_data",
          "data": {
            "text/html": [
              "<pre>| Elapsed Time (Constructing Lookups) | Total % Complete | Items Processed |</pre>"
            ],
            "text/plain": [
              "| Elapsed Time (Constructing Lookups) | Total % Complete | Items Processed |"
            ]
          },
          "metadata": {
            "tags": []
          }
        },
        {
          "output_type": "display_data",
          "data": {
            "text/html": [
              "<pre>+-------------------------------------+------------------+-----------------+</pre>"
            ],
            "text/plain": [
              "+-------------------------------------+------------------+-----------------+"
            ]
          },
          "metadata": {
            "tags": []
          }
        },
        {
          "output_type": "display_data",
          "data": {
            "text/html": [
              "<pre>| 17.368ms                            | 0                | 0               |</pre>"
            ],
            "text/plain": [
              "| 17.368ms                            | 0                | 0               |"
            ]
          },
          "metadata": {
            "tags": []
          }
        },
        {
          "output_type": "display_data",
          "data": {
            "text/html": [
              "<pre>| 56.353ms                            | 100              | 815             |</pre>"
            ],
            "text/plain": [
              "| 56.353ms                            | 100              | 815             |"
            ]
          },
          "metadata": {
            "tags": []
          }
        },
        {
          "output_type": "display_data",
          "data": {
            "text/html": [
              "<pre>+-------------------------------------+------------------+-----------------+</pre>"
            ],
            "text/plain": [
              "+-------------------------------------+------------------+-----------------+"
            ]
          },
          "metadata": {
            "tags": []
          }
        },
        {
          "output_type": "display_data",
          "data": {
            "text/html": [
              "<pre>Finalizing lookup tables.</pre>"
            ],
            "text/plain": [
              "Finalizing lookup tables."
            ]
          },
          "metadata": {
            "tags": []
          }
        },
        {
          "output_type": "display_data",
          "data": {
            "text/html": [
              "<pre>Generating candidate set for working with new users.</pre>"
            ],
            "text/plain": [
              "Generating candidate set for working with new users."
            ]
          },
          "metadata": {
            "tags": []
          }
        },
        {
          "output_type": "display_data",
          "data": {
            "text/html": [
              "<pre>Finished training in 0.062116s</pre>"
            ],
            "text/plain": [
              "Finished training in 0.062116s"
            ]
          },
          "metadata": {
            "tags": []
          }
        },
        {
          "output_type": "display_data",
          "data": {
            "text/html": [
              "<pre>recommendations finished on 1000/9729 queries. users per second: 24973.8</pre>"
            ],
            "text/plain": [
              "recommendations finished on 1000/9729 queries. users per second: 24973.8"
            ]
          },
          "metadata": {
            "tags": []
          }
        },
        {
          "output_type": "display_data",
          "data": {
            "text/html": [
              "<pre>recommendations finished on 2000/9729 queries. users per second: 26946.9</pre>"
            ],
            "text/plain": [
              "recommendations finished on 2000/9729 queries. users per second: 26946.9"
            ]
          },
          "metadata": {
            "tags": []
          }
        },
        {
          "output_type": "display_data",
          "data": {
            "text/html": [
              "<pre>recommendations finished on 3000/9729 queries. users per second: 28840.9</pre>"
            ],
            "text/plain": [
              "recommendations finished on 3000/9729 queries. users per second: 28840.9"
            ]
          },
          "metadata": {
            "tags": []
          }
        },
        {
          "output_type": "display_data",
          "data": {
            "text/html": [
              "<pre>recommendations finished on 4000/9729 queries. users per second: 28333.6</pre>"
            ],
            "text/plain": [
              "recommendations finished on 4000/9729 queries. users per second: 28333.6"
            ]
          },
          "metadata": {
            "tags": []
          }
        },
        {
          "output_type": "display_data",
          "data": {
            "text/html": [
              "<pre>recommendations finished on 5000/9729 queries. users per second: 29860.6</pre>"
            ],
            "text/plain": [
              "recommendations finished on 5000/9729 queries. users per second: 29860.6"
            ]
          },
          "metadata": {
            "tags": []
          }
        },
        {
          "output_type": "display_data",
          "data": {
            "text/html": [
              "<pre>recommendations finished on 6000/9729 queries. users per second: 30832</pre>"
            ],
            "text/plain": [
              "recommendations finished on 6000/9729 queries. users per second: 30832"
            ]
          },
          "metadata": {
            "tags": []
          }
        },
        {
          "output_type": "display_data",
          "data": {
            "text/html": [
              "<pre>recommendations finished on 7000/9729 queries. users per second: 31265.6</pre>"
            ],
            "text/plain": [
              "recommendations finished on 7000/9729 queries. users per second: 31265.6"
            ]
          },
          "metadata": {
            "tags": []
          }
        },
        {
          "output_type": "display_data",
          "data": {
            "text/html": [
              "<pre>recommendations finished on 8000/9729 queries. users per second: 31938</pre>"
            ],
            "text/plain": [
              "recommendations finished on 8000/9729 queries. users per second: 31938"
            ]
          },
          "metadata": {
            "tags": []
          }
        },
        {
          "output_type": "display_data",
          "data": {
            "text/html": [
              "<pre>recommendations finished on 9000/9729 queries. users per second: 32236.9</pre>"
            ],
            "text/plain": [
              "recommendations finished on 9000/9729 queries. users per second: 32236.9"
            ]
          },
          "metadata": {
            "tags": []
          }
        },
        {
          "output_type": "stream",
          "text": [
            "+------------+---------------+-------+------+\n",
            "| customerId |   productId   | score | rank |\n",
            "+------------+---------------+-------+------+\n",
            "|  1104905   |  614632010285 |  1.0  |  1   |\n",
            "|  1104905   | 4711703122536 |  1.0  |  2   |\n",
            "|  1104905   | 4714541070236 |  1.0  |  3   |\n",
            "|  1104905   | 4710172030106 |  1.0  |  4   |\n",
            "|  1104905   | 4717673414169 |  1.0  |  5   |\n",
            "|  1104905   | 4714499363039 |  1.0  |  6   |\n",
            "|  1104905   | 4714686581451 |  0.5  |  7   |\n",
            "|  1104905   | 4710424701952 |  0.5  |  8   |\n",
            "|  1104905   | 4710706932005 |  0.5  |  9   |\n",
            "|  1104905   | 4715828131510 |  0.5  |  10  |\n",
            "|   418683   |  614632010285 |  1.0  |  1   |\n",
            "|   418683   | 4711703122536 |  1.0  |  2   |\n",
            "|   418683   | 4714541070236 |  1.0  |  3   |\n",
            "|   418683   | 4710172030106 |  1.0  |  4   |\n",
            "|   418683   | 4717673414169 |  1.0  |  5   |\n",
            "|   418683   | 4714499363039 |  1.0  |  6   |\n",
            "|   418683   | 4714686581451 |  0.5  |  7   |\n",
            "|   418683   | 4710424701952 |  0.5  |  8   |\n",
            "|   418683   | 4710706932005 |  0.5  |  9   |\n",
            "|   418683   | 4715828131510 |  0.5  |  10  |\n",
            "|  1057331   |  614632010285 |  1.0  |  1   |\n",
            "|  1057331   | 4711703122536 |  1.0  |  2   |\n",
            "|  1057331   | 4714541070236 |  1.0  |  3   |\n",
            "|  1057331   | 4710172030106 |  1.0  |  4   |\n",
            "|  1057331   | 4717673414169 |  1.0  |  5   |\n",
            "|  1057331   | 4714499363039 |  1.0  |  6   |\n",
            "|  1057331   | 4714686581451 |  0.5  |  7   |\n",
            "|  1057331   | 4710424701952 |  0.5  |  8   |\n",
            "|  1057331   | 4710706932005 |  0.5  |  9   |\n",
            "|  1057331   | 4715828131510 |  0.5  |  10  |\n",
            "+------------+---------------+-------+------+\n",
            "[97290 rows x 4 columns]\n",
            "\n"
          ],
          "name": "stdout"
        }
      ]
    },
    {
      "metadata": {
        "id": "9_x6UA66_srD",
        "colab_type": "text"
      },
      "cell_type": "markdown",
      "source": [
        "** Сравним полуенные результаты моделей**"
      ]
    },
    {
      "metadata": {
        "id": "-U9TmxIV-vTG",
        "colab_type": "code",
        "colab": {}
      },
      "cell_type": "code",
      "source": [
        "models_w_counts = [popularity_model, cos, pear]\n",
        "models_w_dummy = [pop_dummy, cos_dummy, pear_dummy]\n",
        "models_w_norm = [pop_norm, cos_norm, pear_norm]\n",
        "\n",
        "names_w_counts = ['Popularity Model on Purchase Counts', 'Cosine Similarity on Purchase Counts', 'Pearson Similarity on Purchase Counts']\n",
        "names_w_dummy = ['Popularity Model on Purchase Dummy', 'Cosine Similarity on Purchase Dummy', 'Pearson Similarity on Purchase Dummy']\n",
        "names_w_norm = ['Popularity Model on Scaled Purchase Counts', 'Cosine Similarity on Scaled Purchase Counts', 'Pearson Similarity on Scaled Purchase Counts']"
      ],
      "execution_count": 0,
      "outputs": []
    },
    {
      "metadata": {
        "id": "l2zFqS3PAHTo",
        "colab_type": "text"
      },
      "cell_type": "markdown",
      "source": [
        "** Модели основанные на количестве покупок**"
      ]
    },
    {
      "metadata": {
        "id": "aEBIHFff_-c2",
        "colab_type": "code",
        "colab": {
          "base_uri": "https://localhost:8080/",
          "height": 3230
        },
        "outputId": "26f91edd-bb6f-43ec-f968-e324f66bb31c"
      },
      "cell_type": "code",
      "source": [
        "eval_counts = tc.recommender.util.compare_models(test_data, models_w_counts, model_names=names_w_counts)"
      ],
      "execution_count": 38,
      "outputs": [
        {
          "output_type": "stream",
          "text": [
            "PROGRESS: Evaluate model Popularity Model on Purchase Counts\n"
          ],
          "name": "stdout"
        },
        {
          "output_type": "display_data",
          "data": {
            "text/html": [
              "<pre>recommendations finished on 1000/6984 queries. users per second: 4050.12</pre>"
            ],
            "text/plain": [
              "recommendations finished on 1000/6984 queries. users per second: 4050.12"
            ]
          },
          "metadata": {
            "tags": []
          }
        },
        {
          "output_type": "display_data",
          "data": {
            "text/html": [
              "<pre>recommendations finished on 2000/6984 queries. users per second: 4124.11</pre>"
            ],
            "text/plain": [
              "recommendations finished on 2000/6984 queries. users per second: 4124.11"
            ]
          },
          "metadata": {
            "tags": []
          }
        },
        {
          "output_type": "display_data",
          "data": {
            "text/html": [
              "<pre>recommendations finished on 3000/6984 queries. users per second: 4110.76</pre>"
            ],
            "text/plain": [
              "recommendations finished on 3000/6984 queries. users per second: 4110.76"
            ]
          },
          "metadata": {
            "tags": []
          }
        },
        {
          "output_type": "display_data",
          "data": {
            "text/html": [
              "<pre>recommendations finished on 4000/6984 queries. users per second: 4143.94</pre>"
            ],
            "text/plain": [
              "recommendations finished on 4000/6984 queries. users per second: 4143.94"
            ]
          },
          "metadata": {
            "tags": []
          }
        },
        {
          "output_type": "display_data",
          "data": {
            "text/html": [
              "<pre>recommendations finished on 5000/6984 queries. users per second: 4146.16</pre>"
            ],
            "text/plain": [
              "recommendations finished on 5000/6984 queries. users per second: 4146.16"
            ]
          },
          "metadata": {
            "tags": []
          }
        },
        {
          "output_type": "display_data",
          "data": {
            "text/html": [
              "<pre>recommendations finished on 6000/6984 queries. users per second: 4129.06</pre>"
            ],
            "text/plain": [
              "recommendations finished on 6000/6984 queries. users per second: 4129.06"
            ]
          },
          "metadata": {
            "tags": []
          }
        },
        {
          "output_type": "stream",
          "text": [
            "\n",
            "Precision and recall summary statistics by cutoff\n",
            "+--------+------------------------+------------------------+\n",
            "| cutoff |     mean_precision     |      mean_recall       |\n",
            "+--------+------------------------+------------------------+\n",
            "|   1    | 0.00014318442153493665 | 2.8636884306987325e-05 |\n",
            "|   2    | 0.00014318442153493652 | 3.886434298805441e-05  |\n",
            "|   3    | 9.545628102329142e-05  | 3.886434298805441e-05  |\n",
            "|   4    | 7.159221076746826e-05  | 3.886434298805441e-05  |\n",
            "|   5    | 8.591065292096246e-05  | 5.477372315860274e-05  |\n",
            "|   6    | 7.159221076746835e-05  | 5.477372315860274e-05  |\n",
            "|   7    | 6.136475208640137e-05  | 5.477372315860274e-05  |\n",
            "|   8    |  7.15922107674684e-05  | 9.056982854233742e-05  |\n",
            "|   9    | 7.954690085274287e-05  | 0.00013829796905398282 |\n",
            "|   10   | 7.159221076746845e-05  | 0.00013829796905398282 |\n",
            "+--------+------------------------+------------------------+\n",
            "[10 rows x 3 columns]\n",
            "\n",
            "\n",
            "Overall RMSE: 0.14419355268193434\n",
            "\n",
            "Per User RMSE (best)\n",
            "+------------+------+-------+\n",
            "| customerId | rmse | count |\n",
            "+------------+------+-------+\n",
            "|  1833362   | 0.0  |   2   |\n",
            "+------------+------+-------+\n",
            "[1 rows x 3 columns]\n",
            "\n",
            "\n",
            "Per User RMSE (worst)\n",
            "+------------+-------------------+-------+\n",
            "| customerId |        rmse       | count |\n",
            "+------------+-------------------+-------+\n",
            "|   991407   | 2.258282057620787 |   3   |\n",
            "+------------+-------------------+-------+\n",
            "[1 rows x 3 columns]\n",
            "\n",
            "\n",
            "Per Item RMSE (best)\n",
            "+---------------+------+-------+\n",
            "|   productId   | rmse | count |\n",
            "+---------------+------+-------+\n",
            "| 4710689105151 | 0.0  |   1   |\n",
            "+---------------+------+-------+\n",
            "[1 rows x 3 columns]\n",
            "\n",
            "\n",
            "Per Item RMSE (worst)\n",
            "+---------------+--------------------+-------+\n",
            "|   productId   |        rmse        | count |\n",
            "+---------------+--------------------+-------+\n",
            "| 4710105031286 | 2.1213203435596424 |   2   |\n",
            "+---------------+--------------------+-------+\n",
            "[1 rows x 3 columns]\n",
            "\n",
            "PROGRESS: Evaluate model Cosine Similarity on Purchase Counts\n"
          ],
          "name": "stdout"
        },
        {
          "output_type": "display_data",
          "data": {
            "text/html": [
              "<pre>recommendations finished on 1000/6984 queries. users per second: 3852.58</pre>"
            ],
            "text/plain": [
              "recommendations finished on 1000/6984 queries. users per second: 3852.58"
            ]
          },
          "metadata": {
            "tags": []
          }
        },
        {
          "output_type": "display_data",
          "data": {
            "text/html": [
              "<pre>recommendations finished on 2000/6984 queries. users per second: 3865.97</pre>"
            ],
            "text/plain": [
              "recommendations finished on 2000/6984 queries. users per second: 3865.97"
            ]
          },
          "metadata": {
            "tags": []
          }
        },
        {
          "output_type": "display_data",
          "data": {
            "text/html": [
              "<pre>recommendations finished on 3000/6984 queries. users per second: 3859.91</pre>"
            ],
            "text/plain": [
              "recommendations finished on 3000/6984 queries. users per second: 3859.91"
            ]
          },
          "metadata": {
            "tags": []
          }
        },
        {
          "output_type": "display_data",
          "data": {
            "text/html": [
              "<pre>recommendations finished on 4000/6984 queries. users per second: 3870.75</pre>"
            ],
            "text/plain": [
              "recommendations finished on 4000/6984 queries. users per second: 3870.75"
            ]
          },
          "metadata": {
            "tags": []
          }
        },
        {
          "output_type": "display_data",
          "data": {
            "text/html": [
              "<pre>recommendations finished on 5000/6984 queries. users per second: 3879.92</pre>"
            ],
            "text/plain": [
              "recommendations finished on 5000/6984 queries. users per second: 3879.92"
            ]
          },
          "metadata": {
            "tags": []
          }
        },
        {
          "output_type": "display_data",
          "data": {
            "text/html": [
              "<pre>recommendations finished on 6000/6984 queries. users per second: 3865.38</pre>"
            ],
            "text/plain": [
              "recommendations finished on 6000/6984 queries. users per second: 3865.38"
            ]
          },
          "metadata": {
            "tags": []
          }
        },
        {
          "output_type": "stream",
          "text": [
            "\n",
            "Precision and recall summary statistics by cutoff\n",
            "+--------+----------------------+----------------------+\n",
            "| cutoff |    mean_precision    |     mean_recall      |\n",
            "+--------+----------------------+----------------------+\n",
            "|   1    | 0.04782359679266902  | 0.027942512177907275 |\n",
            "|   2    | 0.033290378006872845 | 0.03626494138736405  |\n",
            "|   3    | 0.02706185567010319  | 0.04230525166414334  |\n",
            "|   4    | 0.02226517754868265  | 0.045050167002317204 |\n",
            "|   5    | 0.01915807560137455  | 0.04809300641757925  |\n",
            "|   6    | 0.016871897670866807 | 0.05059157457336369  |\n",
            "|   7    | 0.015075274095892644 | 0.05238150095719277  |\n",
            "|   8    | 0.013799398625429534 | 0.05414392453018335  |\n",
            "|   9    | 0.01283886979763266  |  0.0563090258791334  |\n",
            "|   10   | 0.011970217640320786 | 0.057928600780495346 |\n",
            "+--------+----------------------+----------------------+\n",
            "[10 rows x 3 columns]\n",
            "\n",
            "\n",
            "Overall RMSE: 1.0195117625892505\n",
            "\n",
            "Per User RMSE (best)\n",
            "+------------+---------------------+-------+\n",
            "| customerId |         rmse        | count |\n",
            "+------------+---------------------+-------+\n",
            "|  2103419   | 0.47501274943351746 |   1   |\n",
            "+------------+---------------------+-------+\n",
            "[1 rows x 3 columns]\n",
            "\n",
            "\n",
            "Per User RMSE (worst)\n",
            "+------------+--------------------+-------+\n",
            "| customerId |        rmse        | count |\n",
            "+------------+--------------------+-------+\n",
            "|  1216998   | 3.1622776601683795 |   2   |\n",
            "+------------+--------------------+-------+\n",
            "[1 rows x 3 columns]\n",
            "\n",
            "\n",
            "Per Item RMSE (best)\n",
            "+---------------+--------------------+-------+\n",
            "|   productId   |        rmse        | count |\n",
            "+---------------+--------------------+-------+\n",
            "| 2270098000208 | 0.7113248705863953 |   1   |\n",
            "+---------------+--------------------+-------+\n",
            "[1 rows x 3 columns]\n",
            "\n",
            "\n",
            "Per Item RMSE (worst)\n",
            "+---------------+------+-------+\n",
            "|   productId   | rmse | count |\n",
            "+---------------+------+-------+\n",
            "| 4714431050072 | 3.0  |   1   |\n",
            "+---------------+------+-------+\n",
            "[1 rows x 3 columns]\n",
            "\n",
            "PROGRESS: Evaluate model Pearson Similarity on Purchase Counts\n"
          ],
          "name": "stdout"
        },
        {
          "output_type": "display_data",
          "data": {
            "text/html": [
              "<pre>recommendations finished on 1000/6984 queries. users per second: 3552.84</pre>"
            ],
            "text/plain": [
              "recommendations finished on 1000/6984 queries. users per second: 3552.84"
            ]
          },
          "metadata": {
            "tags": []
          }
        },
        {
          "output_type": "display_data",
          "data": {
            "text/html": [
              "<pre>recommendations finished on 2000/6984 queries. users per second: 3565.23</pre>"
            ],
            "text/plain": [
              "recommendations finished on 2000/6984 queries. users per second: 3565.23"
            ]
          },
          "metadata": {
            "tags": []
          }
        },
        {
          "output_type": "display_data",
          "data": {
            "text/html": [
              "<pre>recommendations finished on 3000/6984 queries. users per second: 3554.01</pre>"
            ],
            "text/plain": [
              "recommendations finished on 3000/6984 queries. users per second: 3554.01"
            ]
          },
          "metadata": {
            "tags": []
          }
        },
        {
          "output_type": "display_data",
          "data": {
            "text/html": [
              "<pre>recommendations finished on 4000/6984 queries. users per second: 3570.61</pre>"
            ],
            "text/plain": [
              "recommendations finished on 4000/6984 queries. users per second: 3570.61"
            ]
          },
          "metadata": {
            "tags": []
          }
        },
        {
          "output_type": "display_data",
          "data": {
            "text/html": [
              "<pre>recommendations finished on 5000/6984 queries. users per second: 3503.73</pre>"
            ],
            "text/plain": [
              "recommendations finished on 5000/6984 queries. users per second: 3503.73"
            ]
          },
          "metadata": {
            "tags": []
          }
        },
        {
          "output_type": "display_data",
          "data": {
            "text/html": [
              "<pre>recommendations finished on 6000/6984 queries. users per second: 3508.22</pre>"
            ],
            "text/plain": [
              "recommendations finished on 6000/6984 queries. users per second: 3508.22"
            ]
          },
          "metadata": {
            "tags": []
          }
        },
        {
          "output_type": "stream",
          "text": [
            "\n",
            "Precision and recall summary statistics by cutoff\n",
            "+--------+------------------------+------------------------+\n",
            "| cutoff |     mean_precision     |      mean_recall       |\n",
            "+--------+------------------------+------------------------+\n",
            "|   1    | 0.00014318442153493682 | 2.8636884306987352e-05 |\n",
            "|   2    | 0.00014318442153493668 | 3.8864342988054366e-05 |\n",
            "|   3    | 9.545628102329138e-05  | 3.8864342988054366e-05 |\n",
            "|   4    | 0.00010738831615120242 |  8.65924834996998e-05  |\n",
            "|   5    | 8.591065292096234e-05  |  8.65924834996998e-05  |\n",
            "|   6    | 7.159221076746845e-05  |  8.65924834996998e-05  |\n",
            "|   7    |  6.13647520864014e-05  |  8.65924834996998e-05  |\n",
            "|   8    | 5.369415807560121e-05  |  8.65924834996998e-05  |\n",
            "|   9    | 4.7728140511645614e-05 |  8.65924834996998e-05  |\n",
            "|   10   |  5.72737686139749e-05  | 0.00015818469426716835 |\n",
            "+--------+------------------------+------------------------+\n",
            "[10 rows x 3 columns]\n",
            "\n",
            "\n",
            "Overall RMSE: 0.2791879905583871\n",
            "\n",
            "Per User RMSE (best)\n",
            "+------------+------+-------+\n",
            "| customerId | rmse | count |\n",
            "+------------+------+-------+\n",
            "|  1833362   | 0.0  |   2   |\n",
            "+------------+------+-------+\n",
            "[1 rows x 3 columns]\n",
            "\n",
            "\n",
            "Per User RMSE (worst)\n",
            "+------------+--------------------+-------+\n",
            "| customerId |        rmse        | count |\n",
            "+------------+--------------------+-------+\n",
            "|   991407   | 2.2582842218349644 |   3   |\n",
            "+------------+--------------------+-------+\n",
            "[1 rows x 3 columns]\n",
            "\n",
            "\n",
            "Per Item RMSE (best)\n",
            "+---------------+------+-------+\n",
            "|   productId   | rmse | count |\n",
            "+---------------+------+-------+\n",
            "| 4710689105151 | 0.0  |   1   |\n",
            "+---------------+------+-------+\n",
            "[1 rows x 3 columns]\n",
            "\n",
            "\n",
            "Per Item RMSE (worst)\n",
            "+---------------+------+-------+\n",
            "|   productId   | rmse | count |\n",
            "+---------------+------+-------+\n",
            "| 4906040000146 | 3.0  |   1   |\n",
            "+---------------+------+-------+\n",
            "[1 rows x 3 columns]\n",
            "\n"
          ],
          "name": "stdout"
        }
      ]
    },
    {
      "metadata": {
        "id": "ohwR6k-PAOnU",
        "colab_type": "text"
      },
      "cell_type": "markdown",
      "source": [
        "** Модели основанные на dummy переменной**"
      ]
    },
    {
      "metadata": {
        "id": "ObHoxi15AK4-",
        "colab_type": "code",
        "colab": {
          "base_uri": "https://localhost:8080/",
          "height": 3281
        },
        "outputId": "a857cf35-72dc-4c16-adc6-789a7401f57e"
      },
      "cell_type": "code",
      "source": [
        "eval_dummy = tc.recommender.util.compare_models(test_data_dummy, models_w_dummy, model_names=names_w_dummy)"
      ],
      "execution_count": 39,
      "outputs": [
        {
          "output_type": "stream",
          "text": [
            "PROGRESS: Evaluate model Popularity Model on Purchase Dummy\n"
          ],
          "name": "stdout"
        },
        {
          "output_type": "display_data",
          "data": {
            "text/html": [
              "<pre>recommendations finished on 1000/7001 queries. users per second: 4710.2</pre>"
            ],
            "text/plain": [
              "recommendations finished on 1000/7001 queries. users per second: 4710.2"
            ]
          },
          "metadata": {
            "tags": []
          }
        },
        {
          "output_type": "display_data",
          "data": {
            "text/html": [
              "<pre>recommendations finished on 2000/7001 queries. users per second: 4704.12</pre>"
            ],
            "text/plain": [
              "recommendations finished on 2000/7001 queries. users per second: 4704.12"
            ]
          },
          "metadata": {
            "tags": []
          }
        },
        {
          "output_type": "display_data",
          "data": {
            "text/html": [
              "<pre>recommendations finished on 3000/7001 queries. users per second: 4704.49</pre>"
            ],
            "text/plain": [
              "recommendations finished on 3000/7001 queries. users per second: 4704.49"
            ]
          },
          "metadata": {
            "tags": []
          }
        },
        {
          "output_type": "display_data",
          "data": {
            "text/html": [
              "<pre>recommendations finished on 4000/7001 queries. users per second: 4711.53</pre>"
            ],
            "text/plain": [
              "recommendations finished on 4000/7001 queries. users per second: 4711.53"
            ]
          },
          "metadata": {
            "tags": []
          }
        },
        {
          "output_type": "display_data",
          "data": {
            "text/html": [
              "<pre>recommendations finished on 5000/7001 queries. users per second: 4734.27</pre>"
            ],
            "text/plain": [
              "recommendations finished on 5000/7001 queries. users per second: 4734.27"
            ]
          },
          "metadata": {
            "tags": []
          }
        },
        {
          "output_type": "display_data",
          "data": {
            "text/html": [
              "<pre>recommendations finished on 6000/7001 queries. users per second: 4710.46</pre>"
            ],
            "text/plain": [
              "recommendations finished on 6000/7001 queries. users per second: 4710.46"
            ]
          },
          "metadata": {
            "tags": []
          }
        },
        {
          "output_type": "display_data",
          "data": {
            "text/html": [
              "<pre>recommendations finished on 7000/7001 queries. users per second: 4685.53</pre>"
            ],
            "text/plain": [
              "recommendations finished on 7000/7001 queries. users per second: 4685.53"
            ]
          },
          "metadata": {
            "tags": []
          }
        },
        {
          "output_type": "stream",
          "text": [
            "\n",
            "Precision and recall summary statistics by cutoff\n",
            "+--------+------------------------+------------------------+\n",
            "| cutoff |     mean_precision     |      mean_recall       |\n",
            "+--------+------------------------+------------------------+\n",
            "|   1    | 0.00014283673760891275 | 3.570918440222819e-05  |\n",
            "|   2    | 7.141836880445637e-05  | 3.570918440222819e-05  |\n",
            "|   3    |  4.76122458696377e-05  | 3.570918440222819e-05  |\n",
            "|   4    | 0.00010712755320668477 | 0.00019441667063435343 |\n",
            "|   5    | 0.00014283673760891332 | 0.0004800901458521823  |\n",
            "|   6    | 0.00014283673760891348 | 0.0005038962687869983  |\n",
            "|   7    | 0.00012243148937906824 | 0.0005038962687869983  |\n",
            "|   8    | 0.00010712755320668447 | 0.0005038962687869983  |\n",
            "|   9    | 9.522449173927526e-05  | 0.0005038962687869983  |\n",
            "|   10   | 8.570204256534812e-05  | 0.0005038962687869983  |\n",
            "+--------+------------------------+------------------------+\n",
            "[10 rows x 3 columns]\n",
            "\n",
            "\n",
            "Overall RMSE: 0.0\n",
            "\n",
            "Per User RMSE (best)\n",
            "+------------+------+-------+\n",
            "| customerId | rmse | count |\n",
            "+------------+------+-------+\n",
            "|  1833362   | 0.0  |   1   |\n",
            "+------------+------+-------+\n",
            "[1 rows x 3 columns]\n",
            "\n",
            "\n",
            "Per User RMSE (worst)\n",
            "+------------+------+-------+\n",
            "| customerId | rmse | count |\n",
            "+------------+------+-------+\n",
            "|  1051032   | 0.0  |   6   |\n",
            "+------------+------+-------+\n",
            "[1 rows x 3 columns]\n",
            "\n",
            "\n",
            "Per Item RMSE (best)\n",
            "+---------------+------+-------+\n",
            "|   productId   | rmse | count |\n",
            "+---------------+------+-------+\n",
            "| 4710689105151 | 0.0  |   1   |\n",
            "+---------------+------+-------+\n",
            "[1 rows x 3 columns]\n",
            "\n",
            "\n",
            "Per Item RMSE (worst)\n",
            "+---------------+------+-------+\n",
            "|   productId   | rmse | count |\n",
            "+---------------+------+-------+\n",
            "| 4714981010014 | 0.0  |   3   |\n",
            "+---------------+------+-------+\n",
            "[1 rows x 3 columns]\n",
            "\n",
            "PROGRESS: Evaluate model Cosine Similarity on Purchase Dummy\n"
          ],
          "name": "stdout"
        },
        {
          "output_type": "display_data",
          "data": {
            "text/html": [
              "<pre>recommendations finished on 1000/7001 queries. users per second: 3888.61</pre>"
            ],
            "text/plain": [
              "recommendations finished on 1000/7001 queries. users per second: 3888.61"
            ]
          },
          "metadata": {
            "tags": []
          }
        },
        {
          "output_type": "display_data",
          "data": {
            "text/html": [
              "<pre>recommendations finished on 2000/7001 queries. users per second: 3891.22</pre>"
            ],
            "text/plain": [
              "recommendations finished on 2000/7001 queries. users per second: 3891.22"
            ]
          },
          "metadata": {
            "tags": []
          }
        },
        {
          "output_type": "display_data",
          "data": {
            "text/html": [
              "<pre>recommendations finished on 3000/7001 queries. users per second: 3892.42</pre>"
            ],
            "text/plain": [
              "recommendations finished on 3000/7001 queries. users per second: 3892.42"
            ]
          },
          "metadata": {
            "tags": []
          }
        },
        {
          "output_type": "display_data",
          "data": {
            "text/html": [
              "<pre>recommendations finished on 4000/7001 queries. users per second: 3909.88</pre>"
            ],
            "text/plain": [
              "recommendations finished on 4000/7001 queries. users per second: 3909.88"
            ]
          },
          "metadata": {
            "tags": []
          }
        },
        {
          "output_type": "display_data",
          "data": {
            "text/html": [
              "<pre>recommendations finished on 5000/7001 queries. users per second: 3922.56</pre>"
            ],
            "text/plain": [
              "recommendations finished on 5000/7001 queries. users per second: 3922.56"
            ]
          },
          "metadata": {
            "tags": []
          }
        },
        {
          "output_type": "display_data",
          "data": {
            "text/html": [
              "<pre>recommendations finished on 6000/7001 queries. users per second: 3915.64</pre>"
            ],
            "text/plain": [
              "recommendations finished on 6000/7001 queries. users per second: 3915.64"
            ]
          },
          "metadata": {
            "tags": []
          }
        },
        {
          "output_type": "display_data",
          "data": {
            "text/html": [
              "<pre>recommendations finished on 7000/7001 queries. users per second: 3899.29</pre>"
            ],
            "text/plain": [
              "recommendations finished on 7000/7001 queries. users per second: 3899.29"
            ]
          },
          "metadata": {
            "tags": []
          }
        },
        {
          "output_type": "stream",
          "text": [
            "\n",
            "Precision and recall summary statistics by cutoff\n",
            "+--------+----------------------+----------------------+\n",
            "| cutoff |    mean_precision    |     mean_recall      |\n",
            "+--------+----------------------+----------------------+\n",
            "|   1    | 0.040565633480931264 | 0.019057996868309737 |\n",
            "|   2    | 0.028281674046564863 | 0.02576639385309575  |\n",
            "|   3    | 0.023044327000904558 | 0.03080223907248618  |\n",
            "|   4    | 0.019461505499214313 | 0.03455799505292436  |\n",
            "|   5    | 0.01674046564776454  | 0.03715932411475906  |\n",
            "|   6    | 0.015045469694805512 | 0.04004258568963614  |\n",
            "|   7    | 0.013528679576387061 | 0.041509723037361834 |\n",
            "|   8    | 0.012319668618768716 | 0.04305887814672275  |\n",
            "|   9    | 0.01129997301972728  | 0.04451025810831561  |\n",
            "|   10   | 0.010598485930581365 | 0.046113770531710827 |\n",
            "+--------+----------------------+----------------------+\n",
            "[10 rows x 3 columns]\n",
            "\n",
            "\n",
            "Overall RMSE: 0.9946087139998798\n",
            "\n",
            "Per User RMSE (best)\n",
            "+------------+-------------------+-------+\n",
            "| customerId |        rmse       | count |\n",
            "+------------+-------------------+-------+\n",
            "|  1563924   | 0.521635115146637 |   1   |\n",
            "+------------+-------------------+-------+\n",
            "[1 rows x 3 columns]\n",
            "\n",
            "\n",
            "Per User RMSE (worst)\n",
            "+------------+------+-------+\n",
            "| customerId | rmse | count |\n",
            "+------------+------+-------+\n",
            "|  1959819   | 1.0  |   3   |\n",
            "+------------+------+-------+\n",
            "[1 rows x 3 columns]\n",
            "\n",
            "\n",
            "Per Item RMSE (best)\n",
            "+---------------+--------------------+-------+\n",
            "|   productId   |        rmse        | count |\n",
            "+---------------+--------------------+-------+\n",
            "| 4714072300574 | 0.6464466154575348 |   1   |\n",
            "+---------------+--------------------+-------+\n",
            "[1 rows x 3 columns]\n",
            "\n",
            "\n",
            "Per Item RMSE (worst)\n",
            "+---------------+------+-------+\n",
            "|   productId   | rmse | count |\n",
            "+---------------+------+-------+\n",
            "| 4714981010014 | 1.0  |   3   |\n",
            "+---------------+------+-------+\n",
            "[1 rows x 3 columns]\n",
            "\n",
            "PROGRESS: Evaluate model Pearson Similarity on Purchase Dummy\n"
          ],
          "name": "stdout"
        },
        {
          "output_type": "display_data",
          "data": {
            "text/html": [
              "<pre>recommendations finished on 1000/7001 queries. users per second: 3458.39</pre>"
            ],
            "text/plain": [
              "recommendations finished on 1000/7001 queries. users per second: 3458.39"
            ]
          },
          "metadata": {
            "tags": []
          }
        },
        {
          "output_type": "display_data",
          "data": {
            "text/html": [
              "<pre>recommendations finished on 2000/7001 queries. users per second: 3462.78</pre>"
            ],
            "text/plain": [
              "recommendations finished on 2000/7001 queries. users per second: 3462.78"
            ]
          },
          "metadata": {
            "tags": []
          }
        },
        {
          "output_type": "display_data",
          "data": {
            "text/html": [
              "<pre>recommendations finished on 3000/7001 queries. users per second: 3469.01</pre>"
            ],
            "text/plain": [
              "recommendations finished on 3000/7001 queries. users per second: 3469.01"
            ]
          },
          "metadata": {
            "tags": []
          }
        },
        {
          "output_type": "display_data",
          "data": {
            "text/html": [
              "<pre>recommendations finished on 4000/7001 queries. users per second: 3478.47</pre>"
            ],
            "text/plain": [
              "recommendations finished on 4000/7001 queries. users per second: 3478.47"
            ]
          },
          "metadata": {
            "tags": []
          }
        },
        {
          "output_type": "display_data",
          "data": {
            "text/html": [
              "<pre>recommendations finished on 5000/7001 queries. users per second: 3482.32</pre>"
            ],
            "text/plain": [
              "recommendations finished on 5000/7001 queries. users per second: 3482.32"
            ]
          },
          "metadata": {
            "tags": []
          }
        },
        {
          "output_type": "display_data",
          "data": {
            "text/html": [
              "<pre>recommendations finished on 6000/7001 queries. users per second: 3470.38</pre>"
            ],
            "text/plain": [
              "recommendations finished on 6000/7001 queries. users per second: 3470.38"
            ]
          },
          "metadata": {
            "tags": []
          }
        },
        {
          "output_type": "display_data",
          "data": {
            "text/html": [
              "<pre>recommendations finished on 7000/7001 queries. users per second: 3436.91</pre>"
            ],
            "text/plain": [
              "recommendations finished on 7000/7001 queries. users per second: 3436.91"
            ]
          },
          "metadata": {
            "tags": []
          }
        },
        {
          "output_type": "stream",
          "text": [
            "\n",
            "Precision and recall summary statistics by cutoff\n",
            "+--------+------------------------+------------------------+\n",
            "| cutoff |     mean_precision     |      mean_recall       |\n",
            "+--------+------------------------+------------------------+\n",
            "|   1    |          0.0           |          0.0           |\n",
            "|   2    | 0.00014283673760891272 | 3.825984043095888e-05  |\n",
            "|   3    | 9.522449173927557e-05  | 3.825984043095888e-05  |\n",
            "|   4    | 7.141836880445636e-05  | 3.825984043095888e-05  |\n",
            "|   5    |  8.57020425653483e-05  | 0.00010967820923541574 |\n",
            "|   6    | 7.141836880445636e-05  | 0.00010967820923541574 |\n",
            "|   7    | 6.121574468953404e-05  | 0.00010967820923541574 |\n",
            "|   8    | 5.356377660334247e-05  | 0.00010967820923541574 |\n",
            "|   9    | 4.761224586963773e-05  | 0.00010967820923541574 |\n",
            "|   10   | 5.713469504356521e-05  | 0.00014538739363764385 |\n",
            "+--------+------------------------+------------------------+\n",
            "[10 rows x 3 columns]\n",
            "\n",
            "\n",
            "Overall RMSE: 1.0\n",
            "\n",
            "Per User RMSE (best)\n",
            "+------------+------+-------+\n",
            "| customerId | rmse | count |\n",
            "+------------+------+-------+\n",
            "|  1833362   | 1.0  |   1   |\n",
            "+------------+------+-------+\n",
            "[1 rows x 3 columns]\n",
            "\n",
            "\n",
            "Per User RMSE (worst)\n",
            "+------------+------+-------+\n",
            "| customerId | rmse | count |\n",
            "+------------+------+-------+\n",
            "|  1051032   | 1.0  |   6   |\n",
            "+------------+------+-------+\n",
            "[1 rows x 3 columns]\n",
            "\n",
            "\n",
            "Per Item RMSE (best)\n",
            "+---------------+------+-------+\n",
            "|   productId   | rmse | count |\n",
            "+---------------+------+-------+\n",
            "| 4710689105151 | 1.0  |   1   |\n",
            "+---------------+------+-------+\n",
            "[1 rows x 3 columns]\n",
            "\n",
            "\n",
            "Per Item RMSE (worst)\n",
            "+---------------+------+-------+\n",
            "|   productId   | rmse | count |\n",
            "+---------------+------+-------+\n",
            "| 4714981010014 | 1.0  |   3   |\n",
            "+---------------+------+-------+\n",
            "[1 rows x 3 columns]\n",
            "\n"
          ],
          "name": "stdout"
        }
      ]
    },
    {
      "metadata": {
        "id": "oNdJsns8AXqb",
        "colab_type": "text"
      },
      "cell_type": "markdown",
      "source": [
        "** Модели основанные на нормированном значении количества покупок **"
      ]
    },
    {
      "metadata": {
        "id": "iw0h4zCzARJX",
        "colab_type": "code",
        "colab": {
          "base_uri": "https://localhost:8080/",
          "height": 3128
        },
        "outputId": "7c828540-2446-42c7-cf3a-904d7f6abcd8"
      },
      "cell_type": "code",
      "source": [
        "eval_norm = tc.recommender.util.compare_models(test_data_norm, models_w_norm, model_names=names_w_norm)"
      ],
      "execution_count": 40,
      "outputs": [
        {
          "output_type": "stream",
          "text": [
            "PROGRESS: Evaluate model Popularity Model on Scaled Purchase Counts\n"
          ],
          "name": "stdout"
        },
        {
          "output_type": "display_data",
          "data": {
            "text/html": [
              "<pre>recommendations finished on 1000/4271 queries. users per second: 28057.6</pre>"
            ],
            "text/plain": [
              "recommendations finished on 1000/4271 queries. users per second: 28057.6"
            ]
          },
          "metadata": {
            "tags": []
          }
        },
        {
          "output_type": "display_data",
          "data": {
            "text/html": [
              "<pre>recommendations finished on 2000/4271 queries. users per second: 25779.8</pre>"
            ],
            "text/plain": [
              "recommendations finished on 2000/4271 queries. users per second: 25779.8"
            ]
          },
          "metadata": {
            "tags": []
          }
        },
        {
          "output_type": "display_data",
          "data": {
            "text/html": [
              "<pre>recommendations finished on 3000/4271 queries. users per second: 26504.6</pre>"
            ],
            "text/plain": [
              "recommendations finished on 3000/4271 queries. users per second: 26504.6"
            ]
          },
          "metadata": {
            "tags": []
          }
        },
        {
          "output_type": "display_data",
          "data": {
            "text/html": [
              "<pre>recommendations finished on 4000/4271 queries. users per second: 27046.6</pre>"
            ],
            "text/plain": [
              "recommendations finished on 4000/4271 queries. users per second: 27046.6"
            ]
          },
          "metadata": {
            "tags": []
          }
        },
        {
          "output_type": "stream",
          "text": [
            "\n",
            "Precision and recall summary statistics by cutoff\n",
            "+--------+------------------------+------------------------+\n",
            "| cutoff |     mean_precision     |      mean_recall       |\n",
            "+--------+------------------------+------------------------+\n",
            "|   1    |          0.0           |          0.0           |\n",
            "|   2    | 0.0003512058066026694  | 0.00039803324748302534 |\n",
            "|   3    | 0.0003902286740029662  | 0.0005541247170842112  |\n",
            "|   4    | 0.00035120580660266926 | 0.0007882619214859915  |\n",
            "|   5    | 0.00032779208616249097 | 0.0010223991258877705  |\n",
            "|   6    | 0.0003512058066026688  | 0.0013345820650901413  |\n",
            "|   7    | 0.0003344817205739712  |  0.001568719269491923  |\n",
            "|   8    | 0.0003512058066026706  |  0.002036993678295484  |\n",
            "|   9    | 0.00031218293920237195 |  0.002036993678295484  |\n",
            "|   10   | 0.0002809646452821358  | 0.0020369936782954835  |\n",
            "+--------+------------------------+------------------------+\n",
            "[10 rows x 3 columns]\n",
            "\n",
            "\n",
            "Overall RMSE: 0.20297286225380898\n",
            "\n",
            "Per User RMSE (best)\n",
            "+------------+------+-------+\n",
            "| customerId | rmse | count |\n",
            "+------------+------+-------+\n",
            "|  1733297   | 0.0  |   1   |\n",
            "+------------+------+-------+\n",
            "[1 rows x 3 columns]\n",
            "\n",
            "\n",
            "Per User RMSE (worst)\n",
            "+------------+------+-------+\n",
            "| customerId | rmse | count |\n",
            "+------------+------+-------+\n",
            "|   882682   | 1.0  |   1   |\n",
            "+------------+------+-------+\n",
            "[1 rows x 3 columns]\n",
            "\n",
            "\n",
            "Per Item RMSE (best)\n",
            "+---------------+----------------------+-------+\n",
            "|   productId   |         rmse         | count |\n",
            "+---------------+----------------------+-------+\n",
            "| 4710085172696 | 0.006060606060606061 |   39  |\n",
            "+---------------+----------------------+-------+\n",
            "[1 rows x 3 columns]\n",
            "\n",
            "\n",
            "Per Item RMSE (worst)\n",
            "+---------------+------+-------+\n",
            "|   productId   | rmse | count |\n",
            "+---------------+------+-------+\n",
            "| 4712067898884 | 1.0  |   1   |\n",
            "+---------------+------+-------+\n",
            "[1 rows x 3 columns]\n",
            "\n",
            "PROGRESS: Evaluate model Cosine Similarity on Scaled Purchase Counts\n"
          ],
          "name": "stdout"
        },
        {
          "output_type": "display_data",
          "data": {
            "text/html": [
              "<pre>recommendations finished on 1000/4271 queries. users per second: 36535</pre>"
            ],
            "text/plain": [
              "recommendations finished on 1000/4271 queries. users per second: 36535"
            ]
          },
          "metadata": {
            "tags": []
          }
        },
        {
          "output_type": "display_data",
          "data": {
            "text/html": [
              "<pre>recommendations finished on 2000/4271 queries. users per second: 33307.8</pre>"
            ],
            "text/plain": [
              "recommendations finished on 2000/4271 queries. users per second: 33307.8"
            ]
          },
          "metadata": {
            "tags": []
          }
        },
        {
          "output_type": "display_data",
          "data": {
            "text/html": [
              "<pre>recommendations finished on 3000/4271 queries. users per second: 32294.9</pre>"
            ],
            "text/plain": [
              "recommendations finished on 3000/4271 queries. users per second: 32294.9"
            ]
          },
          "metadata": {
            "tags": []
          }
        },
        {
          "output_type": "display_data",
          "data": {
            "text/html": [
              "<pre>recommendations finished on 4000/4271 queries. users per second: 32259.1</pre>"
            ],
            "text/plain": [
              "recommendations finished on 4000/4271 queries. users per second: 32259.1"
            ]
          },
          "metadata": {
            "tags": []
          }
        },
        {
          "output_type": "stream",
          "text": [
            "\n",
            "Precision and recall summary statistics by cutoff\n",
            "+--------+-----------------------+-----------------------+\n",
            "| cutoff |     mean_precision    |      mean_recall      |\n",
            "+--------+-----------------------+-----------------------+\n",
            "|   1    |  0.002809646452821361 | 0.0014893727724446528 |\n",
            "|   2    | 0.0022243034418169072 | 0.0022112958193501384 |\n",
            "|   3    | 0.0022633263092171983 |  0.003273275282172503 |\n",
            "|   4    | 0.0021657691407164685 |  0.004326892701980501 |\n",
            "|   5    | 0.0021072348396160177 |  0.005329780394168103 |\n",
            "|   6    | 0.0017950519004136418 |  0.005376607835048493 |\n",
            "|   7    | 0.0019399939793290238 |  0.00671118990013864  |\n",
            "|   8    | 0.0019023647857644547 |  0.007655543291225844 |\n",
            "|   9    |  0.001795051900413642 |  0.00829942060333069  |\n",
            "|   10   | 0.0016623741512526377 |  0.00847502350663203  |\n",
            "+--------+-----------------------+-----------------------+\n",
            "[10 rows x 3 columns]\n",
            "\n",
            "\n",
            "Overall RMSE: 0.19530710217026012\n",
            "\n",
            "Per User RMSE (best)\n",
            "+------------+------+-------+\n",
            "| customerId | rmse | count |\n",
            "+------------+------+-------+\n",
            "|  2157993   | 0.0  |   2   |\n",
            "+------------+------+-------+\n",
            "[1 rows x 3 columns]\n",
            "\n",
            "\n",
            "Per User RMSE (worst)\n",
            "+------------+------+-------+\n",
            "| customerId | rmse | count |\n",
            "+------------+------+-------+\n",
            "|  1511420   | 1.0  |   1   |\n",
            "+------------+------+-------+\n",
            "[1 rows x 3 columns]\n",
            "\n",
            "\n",
            "Per Item RMSE (best)\n",
            "+-----------+------+-------+\n",
            "| productId | rmse | count |\n",
            "+-----------+------+-------+\n",
            "|  87108026 | 0.0  |   2   |\n",
            "+-----------+------+-------+\n",
            "[1 rows x 3 columns]\n",
            "\n",
            "\n",
            "Per Item RMSE (worst)\n",
            "+---------------+------+-------+\n",
            "|   productId   | rmse | count |\n",
            "+---------------+------+-------+\n",
            "| 4712067898884 | 1.0  |   1   |\n",
            "+---------------+------+-------+\n",
            "[1 rows x 3 columns]\n",
            "\n",
            "PROGRESS: Evaluate model Pearson Similarity on Scaled Purchase Counts\n"
          ],
          "name": "stdout"
        },
        {
          "output_type": "display_data",
          "data": {
            "text/html": [
              "<pre>recommendations finished on 1000/4271 queries. users per second: 28497.3</pre>"
            ],
            "text/plain": [
              "recommendations finished on 1000/4271 queries. users per second: 28497.3"
            ]
          },
          "metadata": {
            "tags": []
          }
        },
        {
          "output_type": "display_data",
          "data": {
            "text/html": [
              "<pre>recommendations finished on 2000/4271 queries. users per second: 25939.3</pre>"
            ],
            "text/plain": [
              "recommendations finished on 2000/4271 queries. users per second: 25939.3"
            ]
          },
          "metadata": {
            "tags": []
          }
        },
        {
          "output_type": "display_data",
          "data": {
            "text/html": [
              "<pre>recommendations finished on 3000/4271 queries. users per second: 25846.5</pre>"
            ],
            "text/plain": [
              "recommendations finished on 3000/4271 queries. users per second: 25846.5"
            ]
          },
          "metadata": {
            "tags": []
          }
        },
        {
          "output_type": "display_data",
          "data": {
            "text/html": [
              "<pre>recommendations finished on 4000/4271 queries. users per second: 26197.4</pre>"
            ],
            "text/plain": [
              "recommendations finished on 4000/4271 queries. users per second: 26197.4"
            ]
          },
          "metadata": {
            "tags": []
          }
        },
        {
          "output_type": "stream",
          "text": [
            "\n",
            "Precision and recall summary statistics by cutoff\n",
            "+--------+------------------------+------------------------+\n",
            "| cutoff |     mean_precision     |      mean_recall       |\n",
            "+--------+------------------------+------------------------+\n",
            "|   1    | 0.0004682744088035587  | 0.0002809646452821357  |\n",
            "|   2    | 0.00046827440880355874 | 0.00047607898228361844 |\n",
            "|   3    | 0.0006243658784047439  | 0.0011004448606883638  |\n",
            "|   4    | 0.00046827440880355933 | 0.0011004448606883638  |\n",
            "|   5    | 0.00042144696792320314 | 0.0013345820650901429  |\n",
            "|   6    | 0.0003512058066026698  | 0.0013345820650901429  |\n",
            "|   7    | 0.00033448172057397123 | 0.0014126277998907325  |\n",
            "|   8    | 0.00029267150550222416 | 0.0014126277998907325  |\n",
            "|   9    | 0.0002601524493353104  | 0.0014126277998907325  |\n",
            "|   10   | 0.0002341372044017795  | 0.0014126277998907325  |\n",
            "+--------+------------------------+------------------------+\n",
            "[10 rows x 3 columns]\n",
            "\n",
            "\n",
            "Overall RMSE: 0.20282305840852813\n",
            "\n",
            "Per User RMSE (best)\n",
            "+------------+------+-------+\n",
            "| customerId | rmse | count |\n",
            "+------------+------+-------+\n",
            "|  1733297   | 0.0  |   1   |\n",
            "+------------+------+-------+\n",
            "[1 rows x 3 columns]\n",
            "\n",
            "\n",
            "Per User RMSE (worst)\n",
            "+------------+------+-------+\n",
            "| customerId | rmse | count |\n",
            "+------------+------+-------+\n",
            "|   882682   | 1.0  |   1   |\n",
            "+------------+------+-------+\n",
            "[1 rows x 3 columns]\n",
            "\n",
            "\n",
            "Per Item RMSE (best)\n",
            "+---------------+-----------------------+-------+\n",
            "|   productId   |          rmse         | count |\n",
            "+---------------+-----------------------+-------+\n",
            "| 4710085172696 | 0.0056037464522475195 |   39  |\n",
            "+---------------+-----------------------+-------+\n",
            "[1 rows x 3 columns]\n",
            "\n",
            "\n",
            "Per Item RMSE (worst)\n",
            "+---------------+------+-------+\n",
            "|   productId   | rmse | count |\n",
            "+---------------+------+-------+\n",
            "| 4712067898884 | 1.0  |   1   |\n",
            "+---------------+------+-------+\n",
            "[1 rows x 3 columns]\n",
            "\n"
          ],
          "name": "stdout"
        }
      ]
    },
    {
      "metadata": {
        "id": "RZgCiONnAWZu",
        "colab_type": "code",
        "colab": {}
      },
      "cell_type": "code",
      "source": [
        ""
      ],
      "execution_count": 0,
      "outputs": []
    }
  ]
}